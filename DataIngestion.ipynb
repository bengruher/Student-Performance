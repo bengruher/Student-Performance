{
 "cells": [
  {
   "cell_type": "markdown",
   "id": "23c8328a",
   "metadata": {},
   "source": [
    "# Student Performance Data Ingestion"
   ]
  },
  {
   "cell_type": "code",
   "execution_count": 2,
   "id": "28a66f03",
   "metadata": {},
   "outputs": [
    {
     "name": "stdout",
     "output_type": "stream",
     "text": [
      "--2021-12-01 20:55:27--  https://archive.ics.uci.edu/ml/machine-learning-databases/00320/student.zip\n",
      "Resolving archive.ics.uci.edu (archive.ics.uci.edu)... 128.195.10.252\n",
      "Connecting to archive.ics.uci.edu (archive.ics.uci.edu)|128.195.10.252|:443... connected.\n",
      "HTTP request sent, awaiting response... 200 OK\n",
      "Length: 20478 (20K) [application/x-httpd-php]\n",
      "Saving to: ‘student.zip’\n",
      "\n",
      "student.zip         100%[===================>]  20.00K  --.-KB/s    in 0.03s   \n",
      "\n",
      "2021-12-01 20:55:27 (688 KB/s) - ‘student.zip’ saved [20478/20478]\n",
      "\n"
     ]
    }
   ],
   "source": [
    "!wget https://archive.ics.uci.edu/ml/machine-learning-databases/00320/student.zip"
   ]
  },
  {
   "cell_type": "code",
   "execution_count": 3,
   "id": "5ccdec4d",
   "metadata": {},
   "outputs": [
    {
     "name": "stdout",
     "output_type": "stream",
     "text": [
      "Archive:  student.zip\r\n",
      "  inflating: data/student-mat.csv    \r\n",
      "  inflating: data/student-por.csv    \r\n",
      "  inflating: data/student-merge.R    \r\n",
      "  inflating: data/student.txt        \r\n"
     ]
    }
   ],
   "source": [
    "!mkdir data\n",
    "!unzip student.zip -d data"
   ]
  },
  {
   "cell_type": "code",
   "execution_count": 4,
   "id": "a0823e68",
   "metadata": {},
   "outputs": [],
   "source": [
    "!rm -f student.zip"
   ]
  }
 ],
 "metadata": {
  "kernelspec": {
   "display_name": "conda_python3",
   "language": "python",
   "name": "conda_python3"
  },
  "language_info": {
   "codemirror_mode": {
    "name": "ipython",
    "version": 3
   },
   "file_extension": ".py",
   "mimetype": "text/x-python",
   "name": "python",
   "nbconvert_exporter": "python",
   "pygments_lexer": "ipython3",
   "version": "3.6.13"
  }
 },
 "nbformat": 4,
 "nbformat_minor": 5
}
