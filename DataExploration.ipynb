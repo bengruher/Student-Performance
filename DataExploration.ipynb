{
 "cells": [
  {
   "cell_type": "markdown",
   "id": "352bb2f4",
   "metadata": {},
   "source": [
    "# Student Performance Data Exploration"
   ]
  },
  {
   "cell_type": "markdown",
   "id": "3d94d842",
   "metadata": {},
   "source": [
    "### Install and import libraries"
   ]
  },
  {
   "cell_type": "code",
   "execution_count": 1,
   "id": "80b8fe15",
   "metadata": {},
   "outputs": [],
   "source": [
    "import pandas as pd\n",
    "import numpy as np\n",
    "import matplotlib.pyplot as plt\n",
    "import seaborn as sns"
   ]
  },
  {
   "cell_type": "markdown",
   "id": "f9f78705",
   "metadata": {},
   "source": [
    "### Loading data"
   ]
  },
  {
   "cell_type": "code",
   "execution_count": 2,
   "id": "e017384f",
   "metadata": {},
   "outputs": [],
   "source": [
    "math_data = pd.read_csv(filepath_or_buffer = 'data/student-mat.csv', sep=';', header=0)\n",
    "port_data = pd.read_csv(filepath_or_buffer = 'data/student-por.csv', sep=';', header=0)"
   ]
  },
  {
   "cell_type": "code",
   "execution_count": 3,
   "id": "a7df6321",
   "metadata": {},
   "outputs": [
    {
     "data": {
      "text/html": [
       "<div>\n",
       "<style scoped>\n",
       "    .dataframe tbody tr th:only-of-type {\n",
       "        vertical-align: middle;\n",
       "    }\n",
       "\n",
       "    .dataframe tbody tr th {\n",
       "        vertical-align: top;\n",
       "    }\n",
       "\n",
       "    .dataframe thead th {\n",
       "        text-align: right;\n",
       "    }\n",
       "</style>\n",
       "<table border=\"1\" class=\"dataframe\">\n",
       "  <thead>\n",
       "    <tr style=\"text-align: right;\">\n",
       "      <th></th>\n",
       "      <th>school</th>\n",
       "      <th>sex</th>\n",
       "      <th>age</th>\n",
       "      <th>address</th>\n",
       "      <th>famsize</th>\n",
       "      <th>Pstatus</th>\n",
       "      <th>Medu</th>\n",
       "      <th>Fedu</th>\n",
       "      <th>Mjob</th>\n",
       "      <th>Fjob</th>\n",
       "      <th>...</th>\n",
       "      <th>famrel</th>\n",
       "      <th>freetime</th>\n",
       "      <th>goout</th>\n",
       "      <th>Dalc</th>\n",
       "      <th>Walc</th>\n",
       "      <th>health</th>\n",
       "      <th>absences</th>\n",
       "      <th>G1</th>\n",
       "      <th>G2</th>\n",
       "      <th>G3</th>\n",
       "    </tr>\n",
       "  </thead>\n",
       "  <tbody>\n",
       "    <tr>\n",
       "      <th>0</th>\n",
       "      <td>GP</td>\n",
       "      <td>F</td>\n",
       "      <td>18</td>\n",
       "      <td>U</td>\n",
       "      <td>GT3</td>\n",
       "      <td>A</td>\n",
       "      <td>4</td>\n",
       "      <td>4</td>\n",
       "      <td>at_home</td>\n",
       "      <td>teacher</td>\n",
       "      <td>...</td>\n",
       "      <td>4</td>\n",
       "      <td>3</td>\n",
       "      <td>4</td>\n",
       "      <td>1</td>\n",
       "      <td>1</td>\n",
       "      <td>3</td>\n",
       "      <td>6</td>\n",
       "      <td>5</td>\n",
       "      <td>6</td>\n",
       "      <td>6</td>\n",
       "    </tr>\n",
       "    <tr>\n",
       "      <th>1</th>\n",
       "      <td>GP</td>\n",
       "      <td>F</td>\n",
       "      <td>17</td>\n",
       "      <td>U</td>\n",
       "      <td>GT3</td>\n",
       "      <td>T</td>\n",
       "      <td>1</td>\n",
       "      <td>1</td>\n",
       "      <td>at_home</td>\n",
       "      <td>other</td>\n",
       "      <td>...</td>\n",
       "      <td>5</td>\n",
       "      <td>3</td>\n",
       "      <td>3</td>\n",
       "      <td>1</td>\n",
       "      <td>1</td>\n",
       "      <td>3</td>\n",
       "      <td>4</td>\n",
       "      <td>5</td>\n",
       "      <td>5</td>\n",
       "      <td>6</td>\n",
       "    </tr>\n",
       "    <tr>\n",
       "      <th>2</th>\n",
       "      <td>GP</td>\n",
       "      <td>F</td>\n",
       "      <td>15</td>\n",
       "      <td>U</td>\n",
       "      <td>LE3</td>\n",
       "      <td>T</td>\n",
       "      <td>1</td>\n",
       "      <td>1</td>\n",
       "      <td>at_home</td>\n",
       "      <td>other</td>\n",
       "      <td>...</td>\n",
       "      <td>4</td>\n",
       "      <td>3</td>\n",
       "      <td>2</td>\n",
       "      <td>2</td>\n",
       "      <td>3</td>\n",
       "      <td>3</td>\n",
       "      <td>10</td>\n",
       "      <td>7</td>\n",
       "      <td>8</td>\n",
       "      <td>10</td>\n",
       "    </tr>\n",
       "    <tr>\n",
       "      <th>3</th>\n",
       "      <td>GP</td>\n",
       "      <td>F</td>\n",
       "      <td>15</td>\n",
       "      <td>U</td>\n",
       "      <td>GT3</td>\n",
       "      <td>T</td>\n",
       "      <td>4</td>\n",
       "      <td>2</td>\n",
       "      <td>health</td>\n",
       "      <td>services</td>\n",
       "      <td>...</td>\n",
       "      <td>3</td>\n",
       "      <td>2</td>\n",
       "      <td>2</td>\n",
       "      <td>1</td>\n",
       "      <td>1</td>\n",
       "      <td>5</td>\n",
       "      <td>2</td>\n",
       "      <td>15</td>\n",
       "      <td>14</td>\n",
       "      <td>15</td>\n",
       "    </tr>\n",
       "    <tr>\n",
       "      <th>4</th>\n",
       "      <td>GP</td>\n",
       "      <td>F</td>\n",
       "      <td>16</td>\n",
       "      <td>U</td>\n",
       "      <td>GT3</td>\n",
       "      <td>T</td>\n",
       "      <td>3</td>\n",
       "      <td>3</td>\n",
       "      <td>other</td>\n",
       "      <td>other</td>\n",
       "      <td>...</td>\n",
       "      <td>4</td>\n",
       "      <td>3</td>\n",
       "      <td>2</td>\n",
       "      <td>1</td>\n",
       "      <td>2</td>\n",
       "      <td>5</td>\n",
       "      <td>4</td>\n",
       "      <td>6</td>\n",
       "      <td>10</td>\n",
       "      <td>10</td>\n",
       "    </tr>\n",
       "  </tbody>\n",
       "</table>\n",
       "<p>5 rows × 33 columns</p>\n",
       "</div>"
      ],
      "text/plain": [
       "  school sex  age address famsize Pstatus  Medu  Fedu     Mjob      Fjob  ...  \\\n",
       "0     GP   F   18       U     GT3       A     4     4  at_home   teacher  ...   \n",
       "1     GP   F   17       U     GT3       T     1     1  at_home     other  ...   \n",
       "2     GP   F   15       U     LE3       T     1     1  at_home     other  ...   \n",
       "3     GP   F   15       U     GT3       T     4     2   health  services  ...   \n",
       "4     GP   F   16       U     GT3       T     3     3    other     other  ...   \n",
       "\n",
       "  famrel freetime  goout  Dalc  Walc health absences  G1  G2  G3  \n",
       "0      4        3      4     1     1      3        6   5   6   6  \n",
       "1      5        3      3     1     1      3        4   5   5   6  \n",
       "2      4        3      2     2     3      3       10   7   8  10  \n",
       "3      3        2      2     1     1      5        2  15  14  15  \n",
       "4      4        3      2     1     2      5        4   6  10  10  \n",
       "\n",
       "[5 rows x 33 columns]"
      ]
     },
     "execution_count": 3,
     "metadata": {},
     "output_type": "execute_result"
    }
   ],
   "source": [
    "math_data.head(5)"
   ]
  },
  {
   "cell_type": "code",
   "execution_count": 4,
   "id": "d1985bbe",
   "metadata": {},
   "outputs": [
    {
     "data": {
      "text/html": [
       "<div>\n",
       "<style scoped>\n",
       "    .dataframe tbody tr th:only-of-type {\n",
       "        vertical-align: middle;\n",
       "    }\n",
       "\n",
       "    .dataframe tbody tr th {\n",
       "        vertical-align: top;\n",
       "    }\n",
       "\n",
       "    .dataframe thead th {\n",
       "        text-align: right;\n",
       "    }\n",
       "</style>\n",
       "<table border=\"1\" class=\"dataframe\">\n",
       "  <thead>\n",
       "    <tr style=\"text-align: right;\">\n",
       "      <th></th>\n",
       "      <th>school</th>\n",
       "      <th>sex</th>\n",
       "      <th>age</th>\n",
       "      <th>address</th>\n",
       "      <th>famsize</th>\n",
       "      <th>Pstatus</th>\n",
       "      <th>Medu</th>\n",
       "      <th>Fedu</th>\n",
       "      <th>Mjob</th>\n",
       "      <th>Fjob</th>\n",
       "      <th>...</th>\n",
       "      <th>famrel</th>\n",
       "      <th>freetime</th>\n",
       "      <th>goout</th>\n",
       "      <th>Dalc</th>\n",
       "      <th>Walc</th>\n",
       "      <th>health</th>\n",
       "      <th>absences</th>\n",
       "      <th>G1</th>\n",
       "      <th>G2</th>\n",
       "      <th>G3</th>\n",
       "    </tr>\n",
       "  </thead>\n",
       "  <tbody>\n",
       "    <tr>\n",
       "      <th>0</th>\n",
       "      <td>GP</td>\n",
       "      <td>F</td>\n",
       "      <td>18</td>\n",
       "      <td>U</td>\n",
       "      <td>GT3</td>\n",
       "      <td>A</td>\n",
       "      <td>4</td>\n",
       "      <td>4</td>\n",
       "      <td>at_home</td>\n",
       "      <td>teacher</td>\n",
       "      <td>...</td>\n",
       "      <td>4</td>\n",
       "      <td>3</td>\n",
       "      <td>4</td>\n",
       "      <td>1</td>\n",
       "      <td>1</td>\n",
       "      <td>3</td>\n",
       "      <td>4</td>\n",
       "      <td>0</td>\n",
       "      <td>11</td>\n",
       "      <td>11</td>\n",
       "    </tr>\n",
       "    <tr>\n",
       "      <th>1</th>\n",
       "      <td>GP</td>\n",
       "      <td>F</td>\n",
       "      <td>17</td>\n",
       "      <td>U</td>\n",
       "      <td>GT3</td>\n",
       "      <td>T</td>\n",
       "      <td>1</td>\n",
       "      <td>1</td>\n",
       "      <td>at_home</td>\n",
       "      <td>other</td>\n",
       "      <td>...</td>\n",
       "      <td>5</td>\n",
       "      <td>3</td>\n",
       "      <td>3</td>\n",
       "      <td>1</td>\n",
       "      <td>1</td>\n",
       "      <td>3</td>\n",
       "      <td>2</td>\n",
       "      <td>9</td>\n",
       "      <td>11</td>\n",
       "      <td>11</td>\n",
       "    </tr>\n",
       "    <tr>\n",
       "      <th>2</th>\n",
       "      <td>GP</td>\n",
       "      <td>F</td>\n",
       "      <td>15</td>\n",
       "      <td>U</td>\n",
       "      <td>LE3</td>\n",
       "      <td>T</td>\n",
       "      <td>1</td>\n",
       "      <td>1</td>\n",
       "      <td>at_home</td>\n",
       "      <td>other</td>\n",
       "      <td>...</td>\n",
       "      <td>4</td>\n",
       "      <td>3</td>\n",
       "      <td>2</td>\n",
       "      <td>2</td>\n",
       "      <td>3</td>\n",
       "      <td>3</td>\n",
       "      <td>6</td>\n",
       "      <td>12</td>\n",
       "      <td>13</td>\n",
       "      <td>12</td>\n",
       "    </tr>\n",
       "    <tr>\n",
       "      <th>3</th>\n",
       "      <td>GP</td>\n",
       "      <td>F</td>\n",
       "      <td>15</td>\n",
       "      <td>U</td>\n",
       "      <td>GT3</td>\n",
       "      <td>T</td>\n",
       "      <td>4</td>\n",
       "      <td>2</td>\n",
       "      <td>health</td>\n",
       "      <td>services</td>\n",
       "      <td>...</td>\n",
       "      <td>3</td>\n",
       "      <td>2</td>\n",
       "      <td>2</td>\n",
       "      <td>1</td>\n",
       "      <td>1</td>\n",
       "      <td>5</td>\n",
       "      <td>0</td>\n",
       "      <td>14</td>\n",
       "      <td>14</td>\n",
       "      <td>14</td>\n",
       "    </tr>\n",
       "    <tr>\n",
       "      <th>4</th>\n",
       "      <td>GP</td>\n",
       "      <td>F</td>\n",
       "      <td>16</td>\n",
       "      <td>U</td>\n",
       "      <td>GT3</td>\n",
       "      <td>T</td>\n",
       "      <td>3</td>\n",
       "      <td>3</td>\n",
       "      <td>other</td>\n",
       "      <td>other</td>\n",
       "      <td>...</td>\n",
       "      <td>4</td>\n",
       "      <td>3</td>\n",
       "      <td>2</td>\n",
       "      <td>1</td>\n",
       "      <td>2</td>\n",
       "      <td>5</td>\n",
       "      <td>0</td>\n",
       "      <td>11</td>\n",
       "      <td>13</td>\n",
       "      <td>13</td>\n",
       "    </tr>\n",
       "  </tbody>\n",
       "</table>\n",
       "<p>5 rows × 33 columns</p>\n",
       "</div>"
      ],
      "text/plain": [
       "  school sex  age address famsize Pstatus  Medu  Fedu     Mjob      Fjob  ...  \\\n",
       "0     GP   F   18       U     GT3       A     4     4  at_home   teacher  ...   \n",
       "1     GP   F   17       U     GT3       T     1     1  at_home     other  ...   \n",
       "2     GP   F   15       U     LE3       T     1     1  at_home     other  ...   \n",
       "3     GP   F   15       U     GT3       T     4     2   health  services  ...   \n",
       "4     GP   F   16       U     GT3       T     3     3    other     other  ...   \n",
       "\n",
       "  famrel freetime  goout  Dalc  Walc health absences  G1  G2  G3  \n",
       "0      4        3      4     1     1      3        4   0  11  11  \n",
       "1      5        3      3     1     1      3        2   9  11  11  \n",
       "2      4        3      2     2     3      3        6  12  13  12  \n",
       "3      3        2      2     1     1      5        0  14  14  14  \n",
       "4      4        3      2     1     2      5        0  11  13  13  \n",
       "\n",
       "[5 rows x 33 columns]"
      ]
     },
     "execution_count": 4,
     "metadata": {},
     "output_type": "execute_result"
    }
   ],
   "source": [
    "port_data.head(5)"
   ]
  },
  {
   "cell_type": "markdown",
   "id": "0a714cb3",
   "metadata": {},
   "source": [
    "### Exploratory questions"
   ]
  },
  {
   "cell_type": "markdown",
   "id": "a1d0130e",
   "metadata": {},
   "source": [
    "- Does the school that the student attended matter?\n",
    "- Does free time result in better or worse grades?\n",
    "- Does family stability (parent cohabitation, family size, guardian, family educational support, parent education and employment, quality of family relationships) impact student success?\n",
    "- Is there a strong correlation between father and mother education? i.e. do students usually have either educated parents or non-educated parents or do many students have one parent who is educated and one who is not educated?\n",
    "- Does tutoring or outside help indicate the student will be more successful or does it indicate that the student was struggling in school and may continue to struggle?\n",
    "- Does study time directly correlate to better grades? Could it be possible that the answers to the survey are not completely honest?"
   ]
  },
  {
   "cell_type": "markdown",
   "id": "d4c2f2b5",
   "metadata": {},
   "source": [
    "### Exploring the data"
   ]
  },
  {
   "cell_type": "markdown",
   "id": "24c8416b",
   "metadata": {},
   "source": [
    "We will start by looking at the data set as a whole including the number of rows, columns, data types, etc. We will then focus on the target variable, G3, and then explore each of the attributes in the order in which they appear on the UCI dataset web page."
   ]
  },
  {
   "cell_type": "code",
   "execution_count": 5,
   "id": "17f7b66f",
   "metadata": {},
   "outputs": [
    {
     "name": "stdout",
     "output_type": "stream",
     "text": [
      "Number of rows in math dataset:  395\n"
     ]
    }
   ],
   "source": [
    "print('Number of rows in math dataset: ', math_data.shape[0])"
   ]
  },
  {
   "cell_type": "code",
   "execution_count": 6,
   "id": "1948ddb3",
   "metadata": {},
   "outputs": [
    {
     "name": "stdout",
     "output_type": "stream",
     "text": [
      "Number of rows in Portuguese dataset:  33\n"
     ]
    }
   ],
   "source": [
    "print('Number of rows in Portuguese dataset: ', math_data.shape[1])"
   ]
  },
  {
   "cell_type": "code",
   "execution_count": 7,
   "id": "6d75bd42",
   "metadata": {},
   "outputs": [
    {
     "name": "stdout",
     "output_type": "stream",
     "text": [
      "Number of columns in math dataset:  33\n"
     ]
    }
   ],
   "source": [
    "print('Number of columns in math dataset: ', math_data.shape[1])"
   ]
  },
  {
   "cell_type": "code",
   "execution_count": 8,
   "id": "153e9fea",
   "metadata": {},
   "outputs": [
    {
     "name": "stdout",
     "output_type": "stream",
     "text": [
      "Number of columns in Portuguese dataset:  33\n"
     ]
    }
   ],
   "source": [
    "print('Number of columns in Portuguese dataset: ', port_data.shape[1])"
   ]
  },
  {
   "cell_type": "code",
   "execution_count": 9,
   "id": "2a975b0c",
   "metadata": {},
   "outputs": [
    {
     "data": {
      "text/html": [
       "<div>\n",
       "<style scoped>\n",
       "    .dataframe tbody tr th:only-of-type {\n",
       "        vertical-align: middle;\n",
       "    }\n",
       "\n",
       "    .dataframe tbody tr th {\n",
       "        vertical-align: top;\n",
       "    }\n",
       "\n",
       "    .dataframe thead th {\n",
       "        text-align: right;\n",
       "    }\n",
       "</style>\n",
       "<table border=\"1\" class=\"dataframe\">\n",
       "  <thead>\n",
       "    <tr style=\"text-align: right;\">\n",
       "      <th></th>\n",
       "      <th>Math Data Type</th>\n",
       "      <th>Portuguese Data Type</th>\n",
       "    </tr>\n",
       "  </thead>\n",
       "  <tbody>\n",
       "    <tr>\n",
       "      <th>school</th>\n",
       "      <td>object</td>\n",
       "      <td>object</td>\n",
       "    </tr>\n",
       "    <tr>\n",
       "      <th>sex</th>\n",
       "      <td>object</td>\n",
       "      <td>object</td>\n",
       "    </tr>\n",
       "    <tr>\n",
       "      <th>age</th>\n",
       "      <td>int64</td>\n",
       "      <td>int64</td>\n",
       "    </tr>\n",
       "    <tr>\n",
       "      <th>address</th>\n",
       "      <td>object</td>\n",
       "      <td>object</td>\n",
       "    </tr>\n",
       "    <tr>\n",
       "      <th>famsize</th>\n",
       "      <td>object</td>\n",
       "      <td>object</td>\n",
       "    </tr>\n",
       "    <tr>\n",
       "      <th>Pstatus</th>\n",
       "      <td>object</td>\n",
       "      <td>object</td>\n",
       "    </tr>\n",
       "    <tr>\n",
       "      <th>Medu</th>\n",
       "      <td>int64</td>\n",
       "      <td>int64</td>\n",
       "    </tr>\n",
       "    <tr>\n",
       "      <th>Fedu</th>\n",
       "      <td>int64</td>\n",
       "      <td>int64</td>\n",
       "    </tr>\n",
       "    <tr>\n",
       "      <th>Mjob</th>\n",
       "      <td>object</td>\n",
       "      <td>object</td>\n",
       "    </tr>\n",
       "    <tr>\n",
       "      <th>Fjob</th>\n",
       "      <td>object</td>\n",
       "      <td>object</td>\n",
       "    </tr>\n",
       "    <tr>\n",
       "      <th>reason</th>\n",
       "      <td>object</td>\n",
       "      <td>object</td>\n",
       "    </tr>\n",
       "    <tr>\n",
       "      <th>guardian</th>\n",
       "      <td>object</td>\n",
       "      <td>object</td>\n",
       "    </tr>\n",
       "    <tr>\n",
       "      <th>traveltime</th>\n",
       "      <td>int64</td>\n",
       "      <td>int64</td>\n",
       "    </tr>\n",
       "    <tr>\n",
       "      <th>studytime</th>\n",
       "      <td>int64</td>\n",
       "      <td>int64</td>\n",
       "    </tr>\n",
       "    <tr>\n",
       "      <th>failures</th>\n",
       "      <td>int64</td>\n",
       "      <td>int64</td>\n",
       "    </tr>\n",
       "    <tr>\n",
       "      <th>schoolsup</th>\n",
       "      <td>object</td>\n",
       "      <td>object</td>\n",
       "    </tr>\n",
       "    <tr>\n",
       "      <th>famsup</th>\n",
       "      <td>object</td>\n",
       "      <td>object</td>\n",
       "    </tr>\n",
       "    <tr>\n",
       "      <th>paid</th>\n",
       "      <td>object</td>\n",
       "      <td>object</td>\n",
       "    </tr>\n",
       "    <tr>\n",
       "      <th>activities</th>\n",
       "      <td>object</td>\n",
       "      <td>object</td>\n",
       "    </tr>\n",
       "    <tr>\n",
       "      <th>nursery</th>\n",
       "      <td>object</td>\n",
       "      <td>object</td>\n",
       "    </tr>\n",
       "    <tr>\n",
       "      <th>higher</th>\n",
       "      <td>object</td>\n",
       "      <td>object</td>\n",
       "    </tr>\n",
       "    <tr>\n",
       "      <th>internet</th>\n",
       "      <td>object</td>\n",
       "      <td>object</td>\n",
       "    </tr>\n",
       "    <tr>\n",
       "      <th>romantic</th>\n",
       "      <td>object</td>\n",
       "      <td>object</td>\n",
       "    </tr>\n",
       "    <tr>\n",
       "      <th>famrel</th>\n",
       "      <td>int64</td>\n",
       "      <td>int64</td>\n",
       "    </tr>\n",
       "    <tr>\n",
       "      <th>freetime</th>\n",
       "      <td>int64</td>\n",
       "      <td>int64</td>\n",
       "    </tr>\n",
       "    <tr>\n",
       "      <th>goout</th>\n",
       "      <td>int64</td>\n",
       "      <td>int64</td>\n",
       "    </tr>\n",
       "    <tr>\n",
       "      <th>Dalc</th>\n",
       "      <td>int64</td>\n",
       "      <td>int64</td>\n",
       "    </tr>\n",
       "    <tr>\n",
       "      <th>Walc</th>\n",
       "      <td>int64</td>\n",
       "      <td>int64</td>\n",
       "    </tr>\n",
       "    <tr>\n",
       "      <th>health</th>\n",
       "      <td>int64</td>\n",
       "      <td>int64</td>\n",
       "    </tr>\n",
       "    <tr>\n",
       "      <th>absences</th>\n",
       "      <td>int64</td>\n",
       "      <td>int64</td>\n",
       "    </tr>\n",
       "    <tr>\n",
       "      <th>G1</th>\n",
       "      <td>int64</td>\n",
       "      <td>int64</td>\n",
       "    </tr>\n",
       "    <tr>\n",
       "      <th>G2</th>\n",
       "      <td>int64</td>\n",
       "      <td>int64</td>\n",
       "    </tr>\n",
       "    <tr>\n",
       "      <th>G3</th>\n",
       "      <td>int64</td>\n",
       "      <td>int64</td>\n",
       "    </tr>\n",
       "  </tbody>\n",
       "</table>\n",
       "</div>"
      ],
      "text/plain": [
       "           Math Data Type Portuguese Data Type\n",
       "school             object               object\n",
       "sex                object               object\n",
       "age                 int64                int64\n",
       "address            object               object\n",
       "famsize            object               object\n",
       "Pstatus            object               object\n",
       "Medu                int64                int64\n",
       "Fedu                int64                int64\n",
       "Mjob               object               object\n",
       "Fjob               object               object\n",
       "reason             object               object\n",
       "guardian           object               object\n",
       "traveltime          int64                int64\n",
       "studytime           int64                int64\n",
       "failures            int64                int64\n",
       "schoolsup          object               object\n",
       "famsup             object               object\n",
       "paid               object               object\n",
       "activities         object               object\n",
       "nursery            object               object\n",
       "higher             object               object\n",
       "internet           object               object\n",
       "romantic           object               object\n",
       "famrel              int64                int64\n",
       "freetime            int64                int64\n",
       "goout               int64                int64\n",
       "Dalc                int64                int64\n",
       "Walc                int64                int64\n",
       "health              int64                int64\n",
       "absences            int64                int64\n",
       "G1                  int64                int64\n",
       "G2                  int64                int64\n",
       "G3                  int64                int64"
      ]
     },
     "execution_count": 9,
     "metadata": {},
     "output_type": "execute_result"
    }
   ],
   "source": [
    "pd.concat([math_data.dtypes, port_data.dtypes], axis=1, keys=['Math Data Type', 'Portuguese Data Type'])"
   ]
  },
  {
   "cell_type": "markdown",
   "id": "0dc8882f",
   "metadata": {},
   "source": [
    "Thankfully, all of the column names and data types are the same between the two datasets. "
   ]
  },
  {
   "cell_type": "code",
   "execution_count": 10,
   "id": "67bce5e7",
   "metadata": {},
   "outputs": [
    {
     "name": "stdout",
     "output_type": "stream",
     "text": [
      "Unique values for each column in math dataset: \n"
     ]
    },
    {
     "data": {
      "text/plain": [
       "school         2\n",
       "sex            2\n",
       "age            8\n",
       "address        2\n",
       "famsize        2\n",
       "Pstatus        2\n",
       "Medu           5\n",
       "Fedu           5\n",
       "Mjob           5\n",
       "Fjob           5\n",
       "reason         4\n",
       "guardian       3\n",
       "traveltime     4\n",
       "studytime      4\n",
       "failures       4\n",
       "schoolsup      2\n",
       "famsup         2\n",
       "paid           2\n",
       "activities     2\n",
       "nursery        2\n",
       "higher         2\n",
       "internet       2\n",
       "romantic       2\n",
       "famrel         5\n",
       "freetime       5\n",
       "goout          5\n",
       "Dalc           5\n",
       "Walc           5\n",
       "health         5\n",
       "absences      34\n",
       "G1            17\n",
       "G2            17\n",
       "G3            18\n",
       "dtype: int64"
      ]
     },
     "execution_count": 10,
     "metadata": {},
     "output_type": "execute_result"
    }
   ],
   "source": [
    "print('Unique values for each column in math dataset: ')\n",
    "math_data.nunique(axis=0)"
   ]
  },
  {
   "cell_type": "code",
   "execution_count": 11,
   "id": "a74c5fdd",
   "metadata": {},
   "outputs": [
    {
     "name": "stdout",
     "output_type": "stream",
     "text": [
      "Unique values for each column in Portuguese dataset: \n"
     ]
    },
    {
     "data": {
      "text/plain": [
       "school         2\n",
       "sex            2\n",
       "age            8\n",
       "address        2\n",
       "famsize        2\n",
       "Pstatus        2\n",
       "Medu           5\n",
       "Fedu           5\n",
       "Mjob           5\n",
       "Fjob           5\n",
       "reason         4\n",
       "guardian       3\n",
       "traveltime     4\n",
       "studytime      4\n",
       "failures       4\n",
       "schoolsup      2\n",
       "famsup         2\n",
       "paid           2\n",
       "activities     2\n",
       "nursery        2\n",
       "higher         2\n",
       "internet       2\n",
       "romantic       2\n",
       "famrel         5\n",
       "freetime       5\n",
       "goout          5\n",
       "Dalc           5\n",
       "Walc           5\n",
       "health         5\n",
       "absences      24\n",
       "G1            17\n",
       "G2            16\n",
       "G3            17\n",
       "dtype: int64"
      ]
     },
     "execution_count": 11,
     "metadata": {},
     "output_type": "execute_result"
    }
   ],
   "source": [
    "print('Unique values for each column in Portuguese dataset: ')\n",
    "port_data.nunique(axis=0)"
   ]
  },
  {
   "cell_type": "markdown",
   "id": "0f99ccc6",
   "metadata": {},
   "source": [
    "### Target variable:"
   ]
  },
  {
   "cell_type": "code",
   "execution_count": 12,
   "id": "ef57c715",
   "metadata": {},
   "outputs": [
    {
     "data": {
      "text/plain": [
       "count    395.000000\n",
       "mean      10.415190\n",
       "std        4.581443\n",
       "min        0.000000\n",
       "25%        8.000000\n",
       "50%       11.000000\n",
       "75%       14.000000\n",
       "max       20.000000\n",
       "Name: G3, dtype: float64"
      ]
     },
     "execution_count": 12,
     "metadata": {},
     "output_type": "execute_result"
    }
   ],
   "source": [
    "math_data.G3.describe()"
   ]
  },
  {
   "cell_type": "code",
   "execution_count": 13,
   "id": "289489ae",
   "metadata": {},
   "outputs": [
    {
     "data": {
      "text/plain": [
       "count    649.000000\n",
       "mean      11.906009\n",
       "std        3.230656\n",
       "min        0.000000\n",
       "25%       10.000000\n",
       "50%       12.000000\n",
       "75%       14.000000\n",
       "max       19.000000\n",
       "Name: G3, dtype: float64"
      ]
     },
     "execution_count": 13,
     "metadata": {},
     "output_type": "execute_result"
    }
   ],
   "source": [
    "port_data.G3.describe()"
   ]
  },
  {
   "cell_type": "code",
   "execution_count": 14,
   "id": "e28ca9b1",
   "metadata": {},
   "outputs": [
    {
     "data": {
      "image/png": "[encoded data removed]",
      "text/plain": [
       "<Figure size 432x288 with 1 Axes>"
      ]
     },
     "metadata": {
      "needs_background": "light"
     },
     "output_type": "display_data"
    }
   ],
   "source": [
    "plt.title('Student Grades')\n",
    "plt.boxplot(x = [math_data.G3, port_data.G3], labels = ['Math Grades', 'Portuguese Grades'])\n",
    "plt.show()"
   ]
  },
  {
   "cell_type": "markdown",
   "id": "2de639f1",
   "metadata": {},
   "source": [
    "We can see that there are several outliers for the Portuguese grades with a grade of between 0 and 2. We believe that these data points were not mistakes. These may represent students who did not participate or turn in assignment. They could also represent students who are having trouble in their personal lives, which may be shown in the quality of family relationship statistics or parent cohabitation."
   ]
  },
  {
   "cell_type": "code",
   "execution_count": 15,
   "id": "1fa96037",
   "metadata": {},
   "outputs": [
    {
     "data": {
      "image/png": "[encoded data removed]",
      "text/plain": [
       "<Figure size 1080x432 with 2 Axes>"
      ]
     },
     "metadata": {
      "needs_background": "light"
     },
     "output_type": "display_data"
    }
   ],
   "source": [
    "plt.rcParams['figure.figsize'] = [15, 6]\n",
    "bins = [*range(21)]\n",
    "plt.subplot(1, 2, 1)\n",
    "plt.title('Math Grades')\n",
    "plt.hist(math_data.G3, bins = bins)\n",
    "plt.subplot(1, 2, 2)\n",
    "plt.title('Portuguese Grades')\n",
    "plt.hist(port_data.G3, bins = bins)\n",
    "plt.show()"
   ]
  },
  {
   "cell_type": "markdown",
   "id": "7398c421",
   "metadata": {},
   "source": [
    "The distribution of grades looks relatively similar for both subjects. Both distributions look relatively normal. There are a number of students for both subjects who received a grade of zero or one but very few received between a one and a five. "
   ]
  },
  {
   "cell_type": "markdown",
   "id": "06da6155",
   "metadata": {},
   "source": [
    "We will combine the two datasets for the following analysis since we will be modeling using the combined dataset."
   ]
  },
  {
   "cell_type": "code",
   "execution_count": 16,
   "id": "e96c939e",
   "metadata": {},
   "outputs": [],
   "source": [
    "df = pd.concat([math_data, port_data])"
   ]
  },
  {
   "cell_type": "markdown",
   "id": "331b450b",
   "metadata": {},
   "source": [
    "### Missing values"
   ]
  },
  {
   "cell_type": "code",
   "execution_count": 17,
   "id": "5651d843",
   "metadata": {},
   "outputs": [
    {
     "data": {
      "text/plain": [
       "0"
      ]
     },
     "execution_count": 17,
     "metadata": {},
     "output_type": "execute_result"
    }
   ],
   "source": [
    "df.isna().any().sum()"
   ]
  },
  {
   "cell_type": "markdown",
   "id": "f52649d0",
   "metadata": {},
   "source": [
    "The dataset does not contain any missing values."
   ]
  },
  {
   "cell_type": "markdown",
   "id": "41ab1b10",
   "metadata": {},
   "source": [
    "### Attributes\n",
    "\n",
    "For each attribute, we'll inspect the distribution of the data, any outliers that may exist, and the correlation between that attribute and the target variable, G3. We understand that correlation is not a great metric for nominal and binary attributes but it does give us a relative sense of the impact that attribute might have on the target variable."
   ]
  },
  {
   "cell_type": "code",
   "execution_count": 108,
   "id": "6164e397",
   "metadata": {},
   "outputs": [],
   "source": [
    "# create copied dataframe to manipulate\n",
    "df_corr = df.copy()"
   ]
  },
  {
   "cell_type": "markdown",
   "id": "6f274e2a",
   "metadata": {},
   "source": [
    "#### School"
   ]
  },
  {
   "cell_type": "code",
   "execution_count": 19,
   "id": "a7135d54",
   "metadata": {},
   "outputs": [
    {
     "data": {
      "image/png": "[encoded data removed]",
      "text/plain": [
       "<Figure size 360x288 with 1 Axes>"
      ]
     },
     "metadata": {},
     "output_type": "display_data"
    }
   ],
   "source": [
    "plt.rcParams['figure.figsize'] = [5, 4]\n",
    "school_counts = df_corr['school'].value_counts()\n",
    "plt.pie(school_counts, normalize=True, labels = school_counts.index)\n",
    "plt.show()"
   ]
  },
  {
   "cell_type": "code",
   "execution_count": 20,
   "id": "57f0dfb6",
   "metadata": {},
   "outputs": [
    {
     "name": "stdout",
     "output_type": "stream",
     "text": [
      "Correlation between school and final grade:  -0.1271139292906205\n"
     ]
    }
   ],
   "source": [
    "df_corr['school'] = df_corr['school'].astype('category').cat.codes\n",
    "school_corr = df_corr[['school', 'G3']].corr()['G3'].loc['school']\n",
    "print('Correlation between school and final grade: ', school_corr)"
   ]
  },
  {
   "cell_type": "markdown",
   "id": "7cfa943b",
   "metadata": {},
   "source": [
    "There is no statistical significance in the correlation between school and final grade. This is good, we want our model to be able to generalize beyond the two schools included in the survey and not base its results on which of the two schools has better grades. We plan on dropping this column."
   ]
  },
  {
   "cell_type": "markdown",
   "id": "f088acd8",
   "metadata": {},
   "source": [
    "#### Sex"
   ]
  },
  {
   "cell_type": "code",
   "execution_count": 21,
   "id": "9a583c77",
   "metadata": {},
   "outputs": [
    {
     "data": {
      "image/png": "[encoded data removed]",
      "text/plain": [
       "<Figure size 360x288 with 1 Axes>"
      ]
     },
     "metadata": {},
     "output_type": "display_data"
    }
   ],
   "source": [
    "plt.rcParams['figure.figsize'] = [5, 4]\n",
    "sex_counts = df_corr['sex'].value_counts()\n",
    "plt.pie(sex_counts, normalize=True, labels = sex_counts.index)\n",
    "plt.show()"
   ]
  },
  {
   "cell_type": "code",
   "execution_count": 22,
   "id": "181c0b4e",
   "metadata": {},
   "outputs": [
    {
     "name": "stdout",
     "output_type": "stream",
     "text": [
      "Correlation between sex and final grade:  -0.03147205182217906\n"
     ]
    }
   ],
   "source": [
    "df_corr['sex'] = df_corr['sex'].astype('category').cat.codes\n",
    "sex_corr = df_corr[['sex', 'G3']].corr()['G3'].loc['sex']\n",
    "print('Correlation between sex and final grade: ', sex_corr)"
   ]
  },
  {
   "cell_type": "markdown",
   "id": "53277458",
   "metadata": {},
   "source": [
    "There is essentially no correlation between sex and grades. This attribute may just add noise to the dataset. "
   ]
  },
  {
   "cell_type": "markdown",
   "id": "71619d82",
   "metadata": {},
   "source": [
    "#### Age"
   ]
  },
  {
   "cell_type": "code",
   "execution_count": 23,
   "id": "176786cb",
   "metadata": {},
   "outputs": [
    {
     "data": {
      "image/png": "[encoded data removed]",
      "text/plain": [
       "<Figure size 720x288 with 2 Axes>"
      ]
     },
     "metadata": {
      "needs_background": "light"
     },
     "output_type": "display_data"
    }
   ],
   "source": [
    "plt.rcParams['figure.figsize'] = [10, 4]\n",
    "plt.subplot(1, 2, 1)\n",
    "plt.title('Age')\n",
    "plt.hist(df_corr['age'])\n",
    "plt.subplot(1, 2, 2)\n",
    "plt.boxplot(df_corr['age'], labels=['Age'])\n",
    "plt.show()"
   ]
  },
  {
   "cell_type": "markdown",
   "id": "201f7adb",
   "metadata": {},
   "source": [
    "Most of the students in the study were between the age of 15-19, a normal range for high school in the United States, which seems reasonable. There was one outlier who was a 22 year-old and a few students who were 20-21 years-old. This still seems relatively plausable since students sometimes get held back or must repeat a year in school if they are struggling. "
   ]
  },
  {
   "cell_type": "code",
   "execution_count": 117,
   "id": "bb74fd9f",
   "metadata": {},
   "outputs": [
    {
     "name": "stdout",
     "output_type": "stream",
     "text": [
      "Correlation between age and final grade:  -0.12528243256718025\n"
     ]
    }
   ],
   "source": [
    "age_corr = df_corr[['age', 'G3']].corr()['G3'].loc['age']\n",
    "print('Correlation between age and final grade: ', age_corr)"
   ]
  },
  {
   "cell_type": "markdown",
   "id": "1aa138fd",
   "metadata": {},
   "source": [
    "We see a very weak negative correlation between age and final grade. This is not surprising given that older students, particularily those over the age of 20, were most likely held back due to poor grades."
   ]
  },
  {
   "cell_type": "markdown",
   "id": "1d1c0da6",
   "metadata": {},
   "source": [
    "#### Address"
   ]
  },
  {
   "cell_type": "markdown",
   "id": "d72b465d",
   "metadata": {},
   "source": [
    "'U' for urban, 'R' for rural"
   ]
  },
  {
   "cell_type": "code",
   "execution_count": 25,
   "id": "89aa85ed",
   "metadata": {
    "scrolled": true
   },
   "outputs": [
    {
     "data": {
      "image/png": "[encoded data removed]",
      "text/plain": [
       "<Figure size 360x288 with 1 Axes>"
      ]
     },
     "metadata": {},
     "output_type": "display_data"
    }
   ],
   "source": [
    "plt.rcParams['figure.figsize'] = [5, 4]\n",
    "address_counts = df_corr['address'].value_counts()\n",
    "plt.pie(address_counts, normalize=True, labels = address_counts.index)\n",
    "plt.show()"
   ]
  },
  {
   "cell_type": "code",
   "execution_count": 26,
   "id": "b9923fb7",
   "metadata": {},
   "outputs": [
    {
     "name": "stdout",
     "output_type": "stream",
     "text": [
      "Correlation between address type and final grade:  0.11769555959834824\n"
     ]
    }
   ],
   "source": [
    "df_corr['address'] = df_corr['address'].astype('category').cat.codes\n",
    "address_corr = df_corr[['address', 'G3']].corr()['G3'].loc['address']\n",
    "print('Correlation between address type and final grade: ', address_corr)"
   ]
  },
  {
   "cell_type": "markdown",
   "id": "2fc89cf0",
   "metadata": {},
   "source": [
    "#### Family size"
   ]
  },
  {
   "cell_type": "markdown",
   "id": "8d3a9ed5",
   "metadata": {},
   "source": [
    "'LE3' - less or equal to 3 or 'GT3' - greater than 3"
   ]
  },
  {
   "cell_type": "code",
   "execution_count": 27,
   "id": "10815280",
   "metadata": {},
   "outputs": [
    {
     "data": {
      "image/png": "[encoded data removed]",
      "text/plain": [
       "<Figure size 360x288 with 1 Axes>"
      ]
     },
     "metadata": {},
     "output_type": "display_data"
    }
   ],
   "source": [
    "plt.rcParams['figure.figsize'] = [5, 4]\n",
    "famsize_counts = df_corr['famsize'].value_counts()\n",
    "plt.pie(famsize_counts, normalize=True, labels = famsize_counts.index)\n",
    "plt.show()"
   ]
  },
  {
   "cell_type": "code",
   "execution_count": 28,
   "id": "b7ddbffe",
   "metadata": {},
   "outputs": [
    {
     "name": "stdout",
     "output_type": "stream",
     "text": [
      "Correlation between family size and final grade:  0.0612085900248791\n"
     ]
    }
   ],
   "source": [
    "df_corr['famsize'] = df_corr['famsize'].astype('category').cat.codes\n",
    "famsize_corr = df_corr[['famsize', 'G3']].corr()['G3'].loc['famsize']\n",
    "print('Correlation between family size and final grade: ', famsize_corr)"
   ]
  },
  {
   "cell_type": "markdown",
   "id": "065713b2",
   "metadata": {},
   "source": [
    "#### Parent's cohabition status"
   ]
  },
  {
   "cell_type": "markdown",
   "id": "2d437c4e",
   "metadata": {},
   "source": [
    "'T' - living together or 'A' - apart"
   ]
  },
  {
   "cell_type": "code",
   "execution_count": 29,
   "id": "def8cc2e",
   "metadata": {
    "scrolled": true
   },
   "outputs": [
    {
     "data": {
      "image/png": "[encoded data removed]",
      "text/plain": [
       "<Figure size 360x288 with 1 Axes>"
      ]
     },
     "metadata": {},
     "output_type": "display_data"
    }
   ],
   "source": [
    "plt.rcParams['figure.figsize'] = [5, 4]\n",
    "pstatus_counts = df_corr['Pstatus'].value_counts()\n",
    "plt.pie(pstatus_counts, normalize=True, labels = pstatus_counts.index)\n",
    "plt.show()"
   ]
  },
  {
   "cell_type": "code",
   "execution_count": 30,
   "id": "86971c6d",
   "metadata": {},
   "outputs": [
    {
     "name": "stdout",
     "output_type": "stream",
     "text": [
      "Correlation between parent's cohabitation status and final grade:  -0.030693155107326446\n"
     ]
    }
   ],
   "source": [
    "df_corr['Pstatus'] = df_corr['Pstatus'].astype('category').cat.codes\n",
    "pstatus_corr = df_corr[['Pstatus', 'G3']].corr()['G3'].loc['Pstatus']\n",
    "print('Correlation between parent\\'s cohabitation status and final grade: ', pstatus_corr)"
   ]
  },
  {
   "cell_type": "markdown",
   "id": "4eb2f64e",
   "metadata": {},
   "source": [
    "This is surprising. There is almost no correlation between parent cohabitation and student success. "
   ]
  },
  {
   "cell_type": "markdown",
   "id": "460a2246",
   "metadata": {},
   "source": [
    "#### Mother education"
   ]
  },
  {
   "cell_type": "markdown",
   "id": "28c33750",
   "metadata": {},
   "source": [
    "0 - none, 1 - primary education (4th grade), 2 - 5th to 9th grade, 3 - secondary education or 4 - higher education"
   ]
  },
  {
   "cell_type": "markdown",
   "id": "7ded42d5",
   "metadata": {},
   "source": [
    "Education is an ordinal variable because there is a \"greater than\" and \"less than\" relationship between the levels of education and each successive level indicates an increase in the education level of the parent."
   ]
  },
  {
   "cell_type": "code",
   "execution_count": 109,
   "id": "1edc1c80",
   "metadata": {},
   "outputs": [
    {
     "data": {
      "image/png": "[encoded data removed]",
      "text/plain": [
       "<Figure size 360x288 with 1 Axes>"
      ]
     },
     "metadata": {},
     "output_type": "display_data"
    }
   ],
   "source": [
    "plt.rcParams['figure.figsize'] = [5, 4]\n",
    "medu_counts = df_corr['Medu'].value_counts()\n",
    "plt.pie(medu_counts, normalize=True, labels = medu_counts.index)\n",
    "plt.show()"
   ]
  },
  {
   "cell_type": "code",
   "execution_count": 110,
   "id": "78887169",
   "metadata": {
    "scrolled": true
   },
   "outputs": [
    {
     "data": {
      "image/png": "[encoded data removed]",
      "text/plain": [
       "<Figure size 360x288 with 1 Axes>"
      ]
     },
     "metadata": {
      "needs_background": "light"
     },
     "output_type": "display_data"
    }
   ],
   "source": [
    "plt.title('Mother education')\n",
    "plt.hist(df_corr['Medu'], bins = [*range(5)])\n",
    "plt.show()"
   ]
  },
  {
   "cell_type": "markdown",
   "id": "5172671d",
   "metadata": {},
   "source": [
    "The distribution of the mother education attribute appears to be non-Gaussian. Therefore, we will calculate the Spearman correlation between this attribute and final grade."
   ]
  },
  {
   "cell_type": "code",
   "execution_count": 112,
   "id": "94c4b084",
   "metadata": {},
   "outputs": [
    {
     "name": "stdout",
     "output_type": "stream",
     "text": [
      "Correlation between mother education and final grade:  0.23831196704003327\n"
     ]
    }
   ],
   "source": [
    "medu_corr = df_corr[['Medu', 'G3']].corr(method='spearman')['G3'].loc['Medu']\n",
    "print('Correlation between mother education and final grade: ', medu_corr)"
   ]
  },
  {
   "cell_type": "markdown",
   "id": "dcf5b102",
   "metadata": {},
   "source": [
    "There is actually a small positive correlation between mother education and the student's grade. This may be because educated mothers are more likely to pass on the importance of education to their children. "
   ]
  },
  {
   "cell_type": "markdown",
   "id": "cf5a9427",
   "metadata": {},
   "source": [
    "#### Father education"
   ]
  },
  {
   "cell_type": "markdown",
   "id": "c99b6577",
   "metadata": {},
   "source": [
    "0 - none, 1 - primary education (4th grade), 2 - 5th to 9th grade, 3 - secondary education or 4 - higher education"
   ]
  },
  {
   "cell_type": "code",
   "execution_count": 113,
   "id": "70f85336",
   "metadata": {},
   "outputs": [
    {
     "data": {
      "image/png": "[encoded data removed]",
      "text/plain": [
       "<Figure size 360x288 with 1 Axes>"
      ]
     },
     "metadata": {},
     "output_type": "display_data"
    }
   ],
   "source": [
    "plt.rcParams['figure.figsize'] = [5, 4]\n",
    "fedu_counts = df_corr['Fedu'].value_counts()\n",
    "plt.pie(fedu_counts, normalize=True, labels = fedu_counts.index)\n",
    "plt.show()"
   ]
  },
  {
   "cell_type": "code",
   "execution_count": 114,
   "id": "a2357b8a",
   "metadata": {
    "scrolled": true
   },
   "outputs": [
    {
     "data": {
      "image/png": "[encoded data removed]",
      "text/plain": [
       "<Figure size 360x288 with 1 Axes>"
      ]
     },
     "metadata": {
      "needs_background": "light"
     },
     "output_type": "display_data"
    }
   ],
   "source": [
    "plt.title('Father education')\n",
    "plt.hist(df_corr['Fedu'], bins = [*range(5)])\n",
    "plt.show()"
   ]
  },
  {
   "cell_type": "markdown",
   "id": "53e6547c",
   "metadata": {},
   "source": [
    "The distribution of the father education attribute appears to be non-Gaussian. Therefore, we will calculate the Spearman correlation between this attribute and final grade."
   ]
  },
  {
   "cell_type": "code",
   "execution_count": 115,
   "id": "5fc12277",
   "metadata": {},
   "outputs": [
    {
     "name": "stdout",
     "output_type": "stream",
     "text": [
      "Correlation between father education and final grade:  0.1899537317722802\n"
     ]
    }
   ],
   "source": [
    "fedu_corr = df_corr[['Fedu', 'G3']].corr(method='spearman')['G3'].loc['Fedu']\n",
    "print('Correlation between father education and final grade: ', fedu_corr)"
   ]
  },
  {
   "cell_type": "markdown",
   "id": "0d3226af",
   "metadata": {},
   "source": [
    "There is a slightly smaller correlation with father education than there was with mother education. This may indicate that mothers have more of an impact on their children's education. "
   ]
  },
  {
   "cell_type": "markdown",
   "id": "b06b4c5c",
   "metadata": {},
   "source": [
    "#### Mother's job"
   ]
  },
  {
   "cell_type": "markdown",
   "id": "44e81d06",
   "metadata": {},
   "source": [
    "'teacher', 'health' care related, civil 'services' (e.g. administrative or police), 'at_home' or 'other'"
   ]
  },
  {
   "cell_type": "markdown",
   "id": "54ab017a",
   "metadata": {},
   "source": [
    "This is a nominal variable since there is no \"greater than\" or \"less than\" relationship between the categories. Correlation does not make much sense here. Instead, we will look at the average grade for students who fall into each category and plot the result."
   ]
  },
  {
   "cell_type": "code",
   "execution_count": 37,
   "id": "d14872a9",
   "metadata": {},
   "outputs": [
    {
     "data": {
      "image/png": "[encoded data removed]",
      "text/plain": [
       "<Figure size 360x288 with 1 Axes>"
      ]
     },
     "metadata": {},
     "output_type": "display_data"
    }
   ],
   "source": [
    "plt.rcParams['figure.figsize'] = [5, 4]\n",
    "mjob_counts = df_corr['Mjob'].value_counts()\n",
    "plt.pie(mjob_counts, normalize=True, labels = mjob_counts.index)\n",
    "plt.show()"
   ]
  },
  {
   "cell_type": "code",
   "execution_count": 38,
   "id": "5def97bc",
   "metadata": {},
   "outputs": [
    {
     "data": {
      "image/png": "[encoded data removed]",
      "text/plain": [
       "<Figure size 360x288 with 1 Axes>"
      ]
     },
     "metadata": {
      "needs_background": "light"
     },
     "output_type": "display_data"
    }
   ],
   "source": [
    "averageGradesByMotherJob = df_corr.groupby(['Mjob']).mean()['G3']\n",
    "plt.title('Grades by Mother Job')\n",
    "plt.bar(averageGradesByMotherJob.index, averageGradesByMotherJob)\n",
    "plt.show()"
   ]
  },
  {
   "cell_type": "code",
   "execution_count": 39,
   "id": "027412d2",
   "metadata": {},
   "outputs": [
    {
     "data": {
      "image/png": "[encoded data removed]",
      "text/plain": [
       "<Figure size 360x288 with 1 Axes>"
      ]
     },
     "metadata": {
      "needs_background": "light"
     },
     "output_type": "display_data"
    }
   ],
   "source": [
    "labels = []\n",
    "plots = []\n",
    "for job in df_corr['Mjob'].unique():\n",
    "    labels.append(job)\n",
    "    plots.append(df_corr[df_corr['Mjob'] == job]['G3'])\n",
    "plt.title('Grades by Mother Job')\n",
    "plt.boxplot(plots, labels = labels)\n",
    "plt.show()"
   ]
  },
  {
   "cell_type": "markdown",
   "id": "b509b672",
   "metadata": {},
   "source": [
    "Students whose mother works in the healthcare industry tend to have better grades. Students whose mother is a teacher average slightly lower, with students whose mother is in 'services' in close third. However, there is not a huge difference between the grades for students with mothers in different jobs. There may be a small positive correlation between mothers in the health and teaching industry and good grades."
   ]
  },
  {
   "cell_type": "markdown",
   "id": "1547bf37",
   "metadata": {},
   "source": [
    "#### Father's job"
   ]
  },
  {
   "cell_type": "markdown",
   "id": "12962323",
   "metadata": {},
   "source": [
    "'teacher', 'health' care related, civil 'services' (e.g. administrative or police), 'at_home' or 'other'"
   ]
  },
  {
   "cell_type": "code",
   "execution_count": 40,
   "id": "eae4a54b",
   "metadata": {
    "scrolled": true
   },
   "outputs": [
    {
     "data": {
      "image/png": "[encoded data removed]",
      "text/plain": [
       "<Figure size 360x288 with 1 Axes>"
      ]
     },
     "metadata": {},
     "output_type": "display_data"
    }
   ],
   "source": [
    "plt.rcParams['figure.figsize'] = [5, 4]\n",
    "fjob_counts = df_corr['Fjob'].value_counts()\n",
    "plt.pie(fjob_counts, normalize=True, labels = fjob_counts.index)\n",
    "plt.show()"
   ]
  },
  {
   "cell_type": "code",
   "execution_count": 41,
   "id": "9aa59b32",
   "metadata": {
    "scrolled": true
   },
   "outputs": [
    {
     "data": {
      "image/png": "[encoded data removed]",
      "text/plain": [
       "<Figure size 360x288 with 1 Axes>"
      ]
     },
     "metadata": {
      "needs_background": "light"
     },
     "output_type": "display_data"
    }
   ],
   "source": [
    "averageGradesByFatherJob = df_corr.groupby(['Fjob']).mean()['G3']\n",
    "plt.title('Grades by Father Job')\n",
    "plt.bar(averageGradesByFatherJob.index, averageGradesByFatherJob)\n",
    "plt.show()"
   ]
  },
  {
   "cell_type": "code",
   "execution_count": 42,
   "id": "d748ff8c",
   "metadata": {},
   "outputs": [
    {
     "data": {
      "image/png": "[encoded data removed]",
      "text/plain": [
       "<Figure size 360x288 with 1 Axes>"
      ]
     },
     "metadata": {
      "needs_background": "light"
     },
     "output_type": "display_data"
    }
   ],
   "source": [
    "labels = []\n",
    "plots = []\n",
    "for job in df_corr['Fjob'].unique():\n",
    "    labels.append(job)\n",
    "    plots.append(df_corr[df_corr['Fjob'] == job]['G3'])\n",
    "plt.title('Grades by Father Job')\n",
    "plt.boxplot(plots, labels = labels)\n",
    "plt.show()"
   ]
  },
  {
   "cell_type": "markdown",
   "id": "ed0bdfdb",
   "metadata": {},
   "source": [
    "Interestingly, students whose father is a teacher do significantly better in school than students whose father is in other industries. There may be a pretty significant correlation between the father being a teacher and the student doing well in school."
   ]
  },
  {
   "cell_type": "markdown",
   "id": "82cfea83",
   "metadata": {},
   "source": [
    "#### Reason to choose the school"
   ]
  },
  {
   "cell_type": "markdown",
   "id": "fbeb9219",
   "metadata": {},
   "source": [
    "close to 'home', school 'reputation', 'course' preference or 'other'"
   ]
  },
  {
   "cell_type": "code",
   "execution_count": 43,
   "id": "58e40b44",
   "metadata": {},
   "outputs": [
    {
     "data": {
      "image/png": "[encoded data removed]",
      "text/plain": [
       "<Figure size 360x288 with 1 Axes>"
      ]
     },
     "metadata": {},
     "output_type": "display_data"
    }
   ],
   "source": [
    "plt.rcParams['figure.figsize'] = [5, 4]\n",
    "reason_counts = df_corr['reason'].value_counts()\n",
    "plt.pie(reason_counts, normalize=True, labels = reason_counts.index)\n",
    "plt.show()"
   ]
  },
  {
   "cell_type": "code",
   "execution_count": 44,
   "id": "91f62c47",
   "metadata": {},
   "outputs": [
    {
     "data": {
      "image/png": "[encoded data removed]",
      "text/plain": [
       "<Figure size 360x288 with 1 Axes>"
      ]
     },
     "metadata": {
      "needs_background": "light"
     },
     "output_type": "display_data"
    }
   ],
   "source": [
    "labels = []\n",
    "plots = []\n",
    "for job in df_corr['reason'].unique():\n",
    "    labels.append(job)\n",
    "    plots.append(df_corr[df_corr['reason'] == job]['G3'])\n",
    "plt.title('Grades by Reason for Choosing School')\n",
    "plt.boxplot(plots, labels = labels)\n",
    "plt.show()"
   ]
  },
  {
   "cell_type": "markdown",
   "id": "da83881d",
   "metadata": {},
   "source": [
    "There is not a huge difference between the grades of students with different reasons for choosing to attend their school. "
   ]
  },
  {
   "cell_type": "markdown",
   "id": "158fa859",
   "metadata": {},
   "source": [
    "#### Guardian"
   ]
  },
  {
   "cell_type": "markdown",
   "id": "089a8117",
   "metadata": {},
   "source": [
    "'mother', 'father' or 'other'"
   ]
  },
  {
   "cell_type": "code",
   "execution_count": 45,
   "id": "ecce6024",
   "metadata": {},
   "outputs": [
    {
     "data": {
      "image/png": "[encoded data removed]",
      "text/plain": [
       "<Figure size 360x288 with 1 Axes>"
      ]
     },
     "metadata": {},
     "output_type": "display_data"
    }
   ],
   "source": [
    "plt.rcParams['figure.figsize'] = [5, 4]\n",
    "guardian_counts = df_corr['guardian'].value_counts()\n",
    "plt.pie(guardian_counts, normalize=True, labels = guardian_counts.index)\n",
    "plt.show()"
   ]
  },
  {
   "cell_type": "markdown",
   "id": "1d14c0a6",
   "metadata": {},
   "source": [
    "Interestingly, almost 75% of students listed their mother as their guardian. "
   ]
  },
  {
   "cell_type": "code",
   "execution_count": 46,
   "id": "8ddf3607",
   "metadata": {},
   "outputs": [
    {
     "data": {
      "image/png": "[encoded data removed]",
      "text/plain": [
       "<Figure size 360x288 with 1 Axes>"
      ]
     },
     "metadata": {
      "needs_background": "light"
     },
     "output_type": "display_data"
    }
   ],
   "source": [
    "labels = []\n",
    "plots = []\n",
    "for job in df_corr['guardian'].unique():\n",
    "    labels.append(job)\n",
    "    plots.append(df_corr[df_corr['guardian'] == job]['G3'])\n",
    "plt.title('Grades by Guardian')\n",
    "plt.boxplot(plots, labels = labels)\n",
    "plt.show()"
   ]
  },
  {
   "cell_type": "markdown",
   "id": "aeb6025d",
   "metadata": {},
   "source": [
    "The average grade for students was pretty much the same between students who listed 'mother', 'father', and 'other' as their guardian. However, students who listed 'mother' or 'father' had a higher ceiling. A student who got a grade of ~18 was even considered an outlier for the 'other' category."
   ]
  },
  {
   "cell_type": "markdown",
   "id": "08cc67ce",
   "metadata": {},
   "source": [
    "#### Travel time"
   ]
  },
  {
   "cell_type": "markdown",
   "id": "5f940b29",
   "metadata": {},
   "source": [
    "1 - <15 min., 2 - 15 to 30 min., 3 - 30 min. to 1 hour, or 4 - >1 hour"
   ]
  },
  {
   "cell_type": "markdown",
   "id": "2ddea8ff",
   "metadata": {},
   "source": [
    "This is an ordinal variable, so computing correlation makes sense for this attribute."
   ]
  },
  {
   "cell_type": "code",
   "execution_count": 98,
   "id": "3d06395b",
   "metadata": {},
   "outputs": [
    {
     "data": {
      "image/png": "[encoded data removed]",
      "text/plain": [
       "<Figure size 360x288 with 1 Axes>"
      ]
     },
     "metadata": {},
     "output_type": "display_data"
    }
   ],
   "source": [
    "plt.rcParams['figure.figsize'] = [5, 4]\n",
    "traveltime_counts = df_corr['traveltime'].value_counts()\n",
    "plt.pie(traveltime_counts, normalize=True, labels = traveltime_counts.index)\n",
    "plt.show()"
   ]
  },
  {
   "cell_type": "code",
   "execution_count": 99,
   "id": "bafbf401",
   "metadata": {},
   "outputs": [
    {
     "data": {
      "image/png": "[encoded data removed]",
      "text/plain": [
       "<Figure size 360x288 with 1 Axes>"
      ]
     },
     "metadata": {
      "needs_background": "light"
     },
     "output_type": "display_data"
    }
   ],
   "source": [
    "plt.title('Travel time')\n",
    "plt.hist(df_corr['traveltime'], bins = [*range(1, 5)])\n",
    "plt.show()"
   ]
  },
  {
   "cell_type": "markdown",
   "id": "812aa7b7",
   "metadata": {},
   "source": [
    "Most of the students live relatively close to the school."
   ]
  },
  {
   "cell_type": "markdown",
   "id": "b9afcb17",
   "metadata": {},
   "source": [
    "The distribution of the travel time attribute appears to be non-Gaussian. Therefore, we will calculate the Spearman correlation between this attribute and final grade."
   ]
  },
  {
   "cell_type": "code",
   "execution_count": 101,
   "id": "3a995fe2",
   "metadata": {},
   "outputs": [
    {
     "name": "stdout",
     "output_type": "stream",
     "text": [
      "Correlation between travel time and final grade:  -0.11913802899243023\n"
     ]
    }
   ],
   "source": [
    "traveltime_corr = df_corr[['traveltime', 'G3']].corr(method='spearman')['G3'].loc['traveltime']\n",
    "print('Correlation between travel time and final grade: ', traveltime_corr)"
   ]
  },
  {
   "cell_type": "markdown",
   "id": "484cd885",
   "metadata": {},
   "source": [
    "#### Study time"
   ]
  },
  {
   "cell_type": "markdown",
   "id": "9c1cbe24",
   "metadata": {},
   "source": [
    "1 - <2 hours, 2 - 2 to 5 hours, 3 - 5 to 10 hours, or 4 - >10 hours"
   ]
  },
  {
   "cell_type": "code",
   "execution_count": 102,
   "id": "4b7196d0",
   "metadata": {},
   "outputs": [
    {
     "data": {
      "image/png": "[encoded data removed]",
      "text/plain": [
       "<Figure size 360x288 with 1 Axes>"
      ]
     },
     "metadata": {},
     "output_type": "display_data"
    }
   ],
   "source": [
    "plt.rcParams['figure.figsize'] = [5, 4]\n",
    "studytime_counts = df_corr['studytime'].value_counts()\n",
    "plt.pie(studytime_counts, normalize=True, labels = studytime_counts.index)\n",
    "plt.show()"
   ]
  },
  {
   "cell_type": "code",
   "execution_count": 103,
   "id": "a7438115",
   "metadata": {},
   "outputs": [
    {
     "data": {
      "image/png": "[encoded data removed]",
      "text/plain": [
       "<Figure size 360x288 with 1 Axes>"
      ]
     },
     "metadata": {
      "needs_background": "light"
     },
     "output_type": "display_data"
    }
   ],
   "source": [
    "plt.title('Study time')\n",
    "plt.hist(df_corr['studytime'], bins = [*range(1, 5)])\n",
    "plt.show()"
   ]
  },
  {
   "cell_type": "code",
   "execution_count": 104,
   "id": "bf4f7763",
   "metadata": {},
   "outputs": [
    {
     "name": "stdout",
     "output_type": "stream",
     "text": [
      "Correlation between study time and final grade:  0.1616289352029382\n"
     ]
    }
   ],
   "source": [
    "studytime_corr = df_corr[['studytime', 'G3']].corr()['G3'].loc['studytime']\n",
    "print('Correlation between study time and final grade: ', studytime_corr)"
   ]
  },
  {
   "cell_type": "markdown",
   "id": "64915020",
   "metadata": {},
   "source": [
    "There is a weak positive correlation between study time and final grade. We expected there to be a much stronger correlation between these two variables. It may still be a useful indicator of final grade."
   ]
  },
  {
   "cell_type": "markdown",
   "id": "d303df4b",
   "metadata": {},
   "source": [
    "#### Past failed classes"
   ]
  },
  {
   "cell_type": "markdown",
   "id": "56b1d90b",
   "metadata": {},
   "source": [
    "n if 1<=n<3, else 4"
   ]
  },
  {
   "cell_type": "code",
   "execution_count": 84,
   "id": "8d68f0bd",
   "metadata": {
    "scrolled": true
   },
   "outputs": [
    {
     "data": {
      "image/png": "[encoded data removed]",
      "text/plain": [
       "<Figure size 720x288 with 2 Axes>"
      ]
     },
     "metadata": {
      "needs_background": "light"
     },
     "output_type": "display_data"
    }
   ],
   "source": [
    "plt.rcParams['figure.figsize'] = [10, 4]\n",
    "plt.subplot(1, 2, 1)\n",
    "plt.title('Past Class Failures')\n",
    "plt.hist(df_corr['failures'], bins=[*range(4)])\n",
    "plt.subplot(1, 2, 2)\n",
    "plt.boxplot(df_corr['failures'], labels=['Past Class Failures'])\n",
    "plt.show()"
   ]
  },
  {
   "cell_type": "markdown",
   "id": "b32d8600",
   "metadata": {},
   "source": [
    "The distribution of the past failed classes attribute appears to be non-Gaussian. Therefore, we will calculate the Spearman correlation between this attribute and final grade."
   ]
  },
  {
   "cell_type": "code",
   "execution_count": 96,
   "id": "d7ef2632",
   "metadata": {},
   "outputs": [
    {
     "name": "stdout",
     "output_type": "stream",
     "text": [
      "Correlation between past failed classes and grades:  -0.41266035246631894\n"
     ]
    }
   ],
   "source": [
    "fail_corr = df_corr[['failures', 'G3']].corr(method='spearman')['G3'].loc['failures']\n",
    "print('Correlation between past failed classes and grades: ', fail_corr)"
   ]
  },
  {
   "cell_type": "markdown",
   "id": "1b044bb3",
   "metadata": {},
   "source": [
    "There is a weak negative correlation between past failed classes and student performance. While the majority of students have never failed a class, this attribute may be a good indicator of future performance."
   ]
  },
  {
   "cell_type": "markdown",
   "id": "51354032",
   "metadata": {},
   "source": [
    "#### Extra educational support"
   ]
  },
  {
   "cell_type": "code",
   "execution_count": 58,
   "id": "d2858091",
   "metadata": {},
   "outputs": [
    {
     "data": {
      "image/png": "[encoded data removed]",
      "text/plain": [
       "<Figure size 360x288 with 1 Axes>"
      ]
     },
     "metadata": {},
     "output_type": "display_data"
    }
   ],
   "source": [
    "plt.rcParams['figure.figsize'] = [5, 4]\n",
    "schoolsup_counts = df_corr['schoolsup'].value_counts()\n",
    "plt.pie(schoolsup_counts, normalize=True, labels = schoolsup_counts.index)\n",
    "plt.show()"
   ]
  },
  {
   "cell_type": "code",
   "execution_count": 59,
   "id": "b3eda613",
   "metadata": {},
   "outputs": [
    {
     "name": "stdout",
     "output_type": "stream",
     "text": [
      "Correlation between extra educational support and final grade:  -0.07934621996352752\n"
     ]
    }
   ],
   "source": [
    "df_corr['schoolsup'] = df_corr['schoolsup'].astype('category').cat.codes\n",
    "schoolsup_corr = df_corr[['schoolsup', 'G3']].corr()['G3'].loc['schoolsup']\n",
    "print('Correlation between extra educational support and final grade: ', schoolsup_corr)"
   ]
  },
  {
   "cell_type": "markdown",
   "id": "2a210317",
   "metadata": {},
   "source": [
    "Surprisingly, there is almost no correlation between extra educational support and student performance. We had predicted that students with this extra support would be more successful but it may actually indicate that the student was struggling before enrolling in these supplemental classes and may continue to struggle. In fact, the correlation is slightly negative. This suggests that the extra educational support attribute may actually introduce noise into the dataset instead of being a good indicator of grades."
   ]
  },
  {
   "cell_type": "markdown",
   "id": "0c891d7e",
   "metadata": {},
   "source": [
    "#### Family educational support"
   ]
  },
  {
   "cell_type": "code",
   "execution_count": 63,
   "id": "f2444f77",
   "metadata": {},
   "outputs": [
    {
     "data": {
      "image/png": "[encoded data removed]",
      "text/plain": [
       "<Figure size 360x288 with 1 Axes>"
      ]
     },
     "metadata": {},
     "output_type": "display_data"
    }
   ],
   "source": [
    "plt.rcParams['figure.figsize'] = [5, 4]\n",
    "famsup_counts = df_corr['famsup'].value_counts()\n",
    "plt.pie(famsup_counts, normalize=True, labels = famsup_counts.index)\n",
    "plt.show()"
   ]
  },
  {
   "cell_type": "code",
   "execution_count": 64,
   "id": "0480174e",
   "metadata": {},
   "outputs": [
    {
     "name": "stdout",
     "output_type": "stream",
     "text": [
      "Correlation between family educational support and final grade:  0.013312604225917395\n"
     ]
    }
   ],
   "source": [
    "df_corr['famsup'] = df_corr['famsup'].astype('category').cat.codes\n",
    "famsup_corr = df_corr[['famsup', 'G3']].corr()['G3'].loc['famsup']\n",
    "print('Correlation between family educational support and final grade: ', famsup_corr)"
   ]
  },
  {
   "cell_type": "markdown",
   "id": "29bb1672",
   "metadata": {},
   "source": [
    "Again, we were surprised to see almost no correlation between family educational support and student performance. We had predicted that students whose families helped them in school would be more successful."
   ]
  },
  {
   "cell_type": "markdown",
   "id": "16d53ecc",
   "metadata": {},
   "source": [
    "#### Extra paid classes"
   ]
  },
  {
   "cell_type": "code",
   "execution_count": 65,
   "id": "563ac035",
   "metadata": {},
   "outputs": [
    {
     "data": {
      "image/png": "[encoded data removed]",
      "text/plain": [
       "<Figure size 360x288 with 1 Axes>"
      ]
     },
     "metadata": {},
     "output_type": "display_data"
    }
   ],
   "source": [
    "plt.rcParams['figure.figsize'] = [5, 4]\n",
    "paid_counts = df_corr['paid'].value_counts()\n",
    "plt.pie(paid_counts, normalize=True, labels = paid_counts.index)\n",
    "plt.show()"
   ]
  },
  {
   "cell_type": "code",
   "execution_count": 66,
   "id": "6198ffee",
   "metadata": {},
   "outputs": [
    {
     "name": "stdout",
     "output_type": "stream",
     "text": [
      "Correlation between paid extra classes and final grade:  -0.04938811316002525\n"
     ]
    }
   ],
   "source": [
    "df_corr['paid'] = df_corr['paid'].astype('category').cat.codes\n",
    "paid_corr = df_corr[['paid', 'G3']].corr()['G3'].loc['paid']\n",
    "print('Correlation between paid extra classes and final grade: ', paid_corr)"
   ]
  },
  {
   "cell_type": "markdown",
   "id": "e660a85a",
   "metadata": {},
   "source": [
    "We were again surprised to see almost no correlation between paid extra classes and student performance. A student enrolled in paid classes may indicate that the student has more resources at his/her disposal, which generally leads to higher average success. However, for some reason that we are not aware of, this was not the case for this population of students. In fact, the correlation is slightly negative. This suggests that the extra paid classes attribute may actually introduce noise into the dataset instead of being a good indicator of grades."
   ]
  },
  {
   "cell_type": "markdown",
   "id": "d8061a9b",
   "metadata": {},
   "source": [
    "#### Extra-curricular activities"
   ]
  },
  {
   "cell_type": "code",
   "execution_count": 67,
   "id": "663e9f1b",
   "metadata": {},
   "outputs": [
    {
     "data": {
      "image/png": "[encoded data removed]",
      "text/plain": [
       "<Figure size 360x288 with 1 Axes>"
      ]
     },
     "metadata": {},
     "output_type": "display_data"
    }
   ],
   "source": [
    "plt.rcParams['figure.figsize'] = [5, 4]\n",
    "activities_counts = df_corr['activities'].value_counts()\n",
    "plt.pie(activities_counts, normalize=True, labels = activities_counts.index)\n",
    "plt.show()"
   ]
  },
  {
   "cell_type": "code",
   "execution_count": 68,
   "id": "8a32a49b",
   "metadata": {},
   "outputs": [
    {
     "name": "stdout",
     "output_type": "stream",
     "text": [
      "Correlation between participation in extra-curricular activities and final grade:  0.03399837127114887\n"
     ]
    }
   ],
   "source": [
    "df_corr['activities'] = df_corr['activities'].astype('category').cat.codes\n",
    "activities_corr = df_corr[['activities', 'G3']].corr()['G3'].loc['activities']\n",
    "print('Correlation between participation in extra-curricular activities and final grade: ', activities_corr)"
   ]
  },
  {
   "cell_type": "markdown",
   "id": "14f6444e",
   "metadata": {},
   "source": [
    "There is very little correlation between participation in extra-curricular activites and the student's performance. "
   ]
  },
  {
   "cell_type": "markdown",
   "id": "0472bbfc",
   "metadata": {},
   "source": [
    "#### Attended nursery school"
   ]
  },
  {
   "cell_type": "code",
   "execution_count": 69,
   "id": "1762770f",
   "metadata": {},
   "outputs": [
    {
     "data": {
      "image/png": "[encoded data removed]",
      "text/plain": [
       "<Figure size 360x288 with 1 Axes>"
      ]
     },
     "metadata": {},
     "output_type": "display_data"
    }
   ],
   "source": [
    "plt.rcParams['figure.figsize'] = [5, 4]\n",
    "nursery_counts = df_corr['nursery'].value_counts()\n",
    "plt.pie(nursery_counts, normalize=True, labels = nursery_counts.index)\n",
    "plt.show()"
   ]
  },
  {
   "cell_type": "code",
   "execution_count": 70,
   "id": "b2025bd6",
   "metadata": {},
   "outputs": [
    {
     "name": "stdout",
     "output_type": "stream",
     "text": [
      "Correlation between attendance in nursery school and final grade:  0.03994955915651345\n"
     ]
    }
   ],
   "source": [
    "df_corr['nursery'] = df_corr['nursery'].astype('category').cat.codes\n",
    "nursery_corr = df_corr[['nursery', 'G3']].corr()['G3'].loc['nursery']\n",
    "print('Correlation between attendance in nursery school and final grade: ', nursery_corr)"
   ]
  },
  {
   "cell_type": "markdown",
   "id": "434d495c",
   "metadata": {},
   "source": [
    "#### Intends to attend higher education"
   ]
  },
  {
   "cell_type": "code",
   "execution_count": 71,
   "id": "12734a03",
   "metadata": {},
   "outputs": [
    {
     "data": {
      "image/png": "[encoded data removed]",
      "text/plain": [
       "<Figure size 360x288 with 1 Axes>"
      ]
     },
     "metadata": {},
     "output_type": "display_data"
    }
   ],
   "source": [
    "plt.rcParams['figure.figsize'] = [5, 4]\n",
    "higher_counts = df_corr['higher'].value_counts()\n",
    "plt.pie(higher_counts, normalize=True, labels = higher_counts.index)\n",
    "plt.show()"
   ]
  },
  {
   "cell_type": "markdown",
   "id": "2be05182",
   "metadata": {},
   "source": [
    "Interestingly, almost all of the students in the survey intended to attend higher education. "
   ]
  },
  {
   "cell_type": "code",
   "execution_count": 72,
   "id": "47a338d1",
   "metadata": {},
   "outputs": [
    {
     "name": "stdout",
     "output_type": "stream",
     "text": [
      "Correlation between desire to attend higher education and final grade:  0.2365779956649263\n"
     ]
    }
   ],
   "source": [
    "df_corr['higher'] = df_corr['higher'].astype('category').cat.codes\n",
    "higher_corr = df_corr[['higher', 'G3']].corr()['G3'].loc['higher']\n",
    "print('Correlation between desire to attend higher education and final grade: ', higher_corr)"
   ]
  },
  {
   "cell_type": "markdown",
   "id": "6f80afa9",
   "metadata": {},
   "source": [
    "A weak postitive correlation exists between the intention to attend higher education and student performance. This matches what we had predicted. Students who want to attend further education are going to be more motivated in school than students who have no desire to attend higher education. In addition, students who are already doing poorly in school may make the decision to not pursue higher education based on their current struggles in school. "
   ]
  },
  {
   "cell_type": "markdown",
   "id": "1c6ff48a",
   "metadata": {},
   "source": [
    "#### Internet access at home"
   ]
  },
  {
   "cell_type": "code",
   "execution_count": 73,
   "id": "cb0ee03a",
   "metadata": {},
   "outputs": [
    {
     "data": {
      "image/png": "[encoded data removed]",
      "text/plain": [
       "<Figure size 360x288 with 1 Axes>"
      ]
     },
     "metadata": {},
     "output_type": "display_data"
    }
   ],
   "source": [
    "plt.rcParams['figure.figsize'] = [5, 4]\n",
    "internet_counts = df_corr['internet'].value_counts()\n",
    "plt.pie(internet_counts, normalize=True, labels = internet_counts.index)\n",
    "plt.show()"
   ]
  },
  {
   "cell_type": "code",
   "execution_count": 74,
   "id": "a01989c0",
   "metadata": {},
   "outputs": [
    {
     "name": "stdout",
     "output_type": "stream",
     "text": [
      "Correlation between internet access and final grade:  0.10706388402496843\n"
     ]
    }
   ],
   "source": [
    "df_corr['internet'] = df_corr['internet'].astype('category').cat.codes\n",
    "internet_corr = df_corr[['internet', 'G3']].corr()['G3'].loc['internet']\n",
    "print('Correlation between internet access and final grade: ', internet_corr)"
   ]
  },
  {
   "cell_type": "markdown",
   "id": "0c977989",
   "metadata": {},
   "source": [
    "There is a weak positive correlation between internet access and grades. This is about what we had expected. We hypothesized that it would be harder to achieve good grades without internet access at home, since students would either need to travel to a place with public internet or be unable to leverage online resources altogether. This dataset was collected in 2006 when most work was completed and submitted on paper. In today's educational environment where everything is done online, being successful without internet at home would be even more challenging. "
   ]
  },
  {
   "cell_type": "markdown",
   "id": "5098f8a3",
   "metadata": {},
   "source": [
    "#### In a romantic relationship"
   ]
  },
  {
   "cell_type": "code",
   "execution_count": 75,
   "id": "65490a8c",
   "metadata": {},
   "outputs": [
    {
     "data": {
      "image/png": "[encoded data removed]",
      "text/plain": [
       "<Figure size 360x288 with 1 Axes>"
      ]
     },
     "metadata": {},
     "output_type": "display_data"
    }
   ],
   "source": [
    "plt.rcParams['figure.figsize'] = [5, 4]\n",
    "romantic_counts = df_corr['romantic'].value_counts()\n",
    "plt.pie(romantic_counts, normalize=True, labels = romantic_counts.index)\n",
    "plt.show()"
   ]
  },
  {
   "cell_type": "code",
   "execution_count": 76,
   "id": "b9d7ced8",
   "metadata": {},
   "outputs": [
    {
     "name": "stdout",
     "output_type": "stream",
     "text": [
      "Correlation between being in a romantic relationship and final grade:  -0.09836301617445385\n"
     ]
    }
   ],
   "source": [
    "df_corr['romantic'] = df_corr['romantic'].astype('category').cat.codes\n",
    "romantic_corr = df_corr[['romantic', 'G3']].corr()['G3'].loc['romantic']\n",
    "print('Correlation between being in a romantic relationship and final grade: ', romantic_corr)"
   ]
  },
  {
   "cell_type": "markdown",
   "id": "66124b73",
   "metadata": {},
   "source": [
    "There is a weak negative correlation between being in a romantic relationship and student performance."
   ]
  },
  {
   "cell_type": "markdown",
   "id": "a03b1623",
   "metadata": {},
   "source": [
    "#### Quality of family relationships"
   ]
  },
  {
   "cell_type": "markdown",
   "id": "40aacac5",
   "metadata": {},
   "source": [
    "from 1 - very bad to 5 - excellent"
   ]
  },
  {
   "cell_type": "code",
   "execution_count": 85,
   "id": "003f22fb",
   "metadata": {
    "scrolled": true
   },
   "outputs": [
    {
     "data": {
      "image/png": "[encoded data removed]",
      "text/plain": [
       "<Figure size 720x288 with 2 Axes>"
      ]
     },
     "metadata": {
      "needs_background": "light"
     },
     "output_type": "display_data"
    }
   ],
   "source": [
    "plt.rcParams['figure.figsize'] = [10, 4]\n",
    "plt.subplot(1, 2, 1)\n",
    "plt.title('Quality of Family Relationships')\n",
    "plt.hist(df_corr['famrel'], bins=[*range(1, 6)])\n",
    "plt.subplot(1, 2, 2)\n",
    "plt.boxplot(df_corr['famrel'], labels=['Quality of Family Relationships'])\n",
    "plt.show()"
   ]
  },
  {
   "cell_type": "markdown",
   "id": "237a4748",
   "metadata": {},
   "source": [
    "The distribution of quality of family relationships appears to be non-Gaussian. Therefore, we will calculate the Spearman correlation between this attribute and final grade."
   ]
  },
  {
   "cell_type": "code",
   "execution_count": 95,
   "id": "e0b6e6ac",
   "metadata": {},
   "outputs": [
    {
     "name": "stdout",
     "output_type": "stream",
     "text": [
      "Correlation between quality of family relationships and final grade:  0.04938760906724494\n"
     ]
    }
   ],
   "source": [
    "famrel_corr = df_corr[['famrel', 'G3']].corr(method='spearman')['G3'].loc['famrel']\n",
    "print('Correlation between quality of family relationships and final grade: ', famrel_corr)"
   ]
  },
  {
   "cell_type": "markdown",
   "id": "070fd050",
   "metadata": {},
   "source": [
    "#### Free time"
   ]
  },
  {
   "cell_type": "markdown",
   "id": "df08db98",
   "metadata": {},
   "source": [
    "from 1 - very low to 5 - very high"
   ]
  },
  {
   "cell_type": "code",
   "execution_count": 89,
   "id": "221b8516",
   "metadata": {},
   "outputs": [
    {
     "data": {
      "image/png": "[encoded data removed]",
      "text/plain": [
       "<Figure size 720x288 with 2 Axes>"
      ]
     },
     "metadata": {
      "needs_background": "light"
     },
     "output_type": "display_data"
    }
   ],
   "source": [
    "plt.rcParams['figure.figsize'] = [10, 4]\n",
    "plt.subplot(1, 2, 1)\n",
    "plt.title('Free Time')\n",
    "plt.hist(df_corr['freetime'], bins=[*range(1, 6)])\n",
    "plt.subplot(1, 2, 2)\n",
    "plt.boxplot(df_corr['freetime'], labels=['Free Time'])\n",
    "plt.show()"
   ]
  },
  {
   "cell_type": "markdown",
   "id": "ecdec361",
   "metadata": {},
   "source": [
    "The distribution of the free time attribute appears to be non-Gaussian. Therefore, we will calculate the Spearman correlation between free time and final grade."
   ]
  },
  {
   "cell_type": "code",
   "execution_count": 94,
   "id": "32e0ded2",
   "metadata": {},
   "outputs": [
    {
     "name": "stdout",
     "output_type": "stream",
     "text": [
      "Correlation between free time and final grade:  -0.08182727632579963\n"
     ]
    }
   ],
   "source": [
    "freetime_corr = df_corr[['freetime', 'G3']].corr(method='spearman')['G3'].loc['freetime']\n",
    "print('Correlation between free time and final grade: ', freetime_corr)"
   ]
  },
  {
   "cell_type": "markdown",
   "id": "1445238d",
   "metadata": {},
   "source": [
    "#### Going out with friends"
   ]
  },
  {
   "cell_type": "markdown",
   "id": "a5bf0035",
   "metadata": {},
   "source": [
    "from 1 - very low to 5 - very high"
   ]
  },
  {
   "cell_type": "code",
   "execution_count": 91,
   "id": "05a2e369",
   "metadata": {
    "scrolled": true
   },
   "outputs": [
    {
     "data": {
      "image/png": "[encoded data removed]",
      "text/plain": [
       "<Figure size 720x288 with 2 Axes>"
      ]
     },
     "metadata": {
      "needs_background": "light"
     },
     "output_type": "display_data"
    }
   ],
   "source": [
    "plt.rcParams['figure.figsize'] = [10, 4]\n",
    "plt.subplot(1, 2, 1)\n",
    "plt.title('Going Out With Friends')\n",
    "plt.hist(df_corr['goout'], bins=[*range(1, 6)])\n",
    "plt.subplot(1, 2, 2)\n",
    "plt.boxplot(df_corr['goout'], labels=['Going Out With Friends'])\n",
    "plt.show()"
   ]
  },
  {
   "cell_type": "markdown",
   "id": "0379dc32",
   "metadata": {},
   "source": [
    "The distribution of the going out attribute appears to be non-Gaussian. Therefore, we will calculate the Spearman correlation between this attribute and final grade."
   ]
  },
  {
   "cell_type": "code",
   "execution_count": 118,
   "id": "7f0a5bea",
   "metadata": {},
   "outputs": [
    {
     "name": "stdout",
     "output_type": "stream",
     "text": [
      "Correlation between going out with friends and final grade:  -0.12009742541115494\n"
     ]
    }
   ],
   "source": [
    "goout_corr = df_corr[['goout', 'G3']].corr(method='spearman')['G3'].loc['goout']\n",
    "print('Correlation between going out with friends and final grade: ', goout_corr)"
   ]
  },
  {
   "cell_type": "markdown",
   "id": "8ef54a5c",
   "metadata": {},
   "source": [
    "#### Weekday alcohol consumption"
   ]
  },
  {
   "cell_type": "markdown",
   "id": "ba511a33",
   "metadata": {},
   "source": [
    "from 1 - very low to 5 - very high"
   ]
  },
  {
   "cell_type": "code",
   "execution_count": 119,
   "id": "f167bf68",
   "metadata": {
    "scrolled": true
   },
   "outputs": [
    {
     "data": {
      "image/png": "[encoded data removed]",
      "text/plain": [
       "<Figure size 720x288 with 2 Axes>"
      ]
     },
     "metadata": {
      "needs_background": "light"
     },
     "output_type": "display_data"
    }
   ],
   "source": [
    "plt.rcParams['figure.figsize'] = [10, 4]\n",
    "plt.subplot(1, 2, 1)\n",
    "plt.title('Weekday Alcohol Consumption')\n",
    "plt.hist(df_corr['Dalc'], bins=[*range(1, 6)])\n",
    "plt.subplot(1, 2, 2)\n",
    "plt.boxplot(df_corr['Dalc'], labels=['Weekday Alcohol Consumption'])\n",
    "plt.show()"
   ]
  },
  {
   "cell_type": "markdown",
   "id": "3e5f1477",
   "metadata": {},
   "source": [
    "The distribution of the weekday alcohol consumption attribute appears to be non-Gaussian. Therefore, we will calculate the Spearman correlation between this attribute and final grade."
   ]
  },
  {
   "cell_type": "code",
   "execution_count": 120,
   "id": "8a0fe712",
   "metadata": {},
   "outputs": [
    {
     "name": "stdout",
     "output_type": "stream",
     "text": [
      "Correlation between weekday alcohol consumption and final grade:  -0.17187856405688476\n"
     ]
    }
   ],
   "source": [
    "dalc_corr = df_corr[['Dalc', 'G3']].corr(method='spearman')['G3'].loc['Dalc']\n",
    "print('Correlation between weekday alcohol consumption and final grade: ', dalc_corr)"
   ]
  },
  {
   "cell_type": "markdown",
   "id": "5cfb1a54",
   "metadata": {},
   "source": [
    "#### Weekend alcohol consumption"
   ]
  },
  {
   "cell_type": "markdown",
   "id": "4959a03e",
   "metadata": {},
   "source": [
    "from 1 - very low to 5 - very high"
   ]
  },
  {
   "cell_type": "code",
   "execution_count": 121,
   "id": "e1046e24",
   "metadata": {
    "scrolled": true
   },
   "outputs": [
    {
     "data": {
      "image/png": "[encoded data removed]",
      "text/plain": [
       "<Figure size 720x288 with 2 Axes>"
      ]
     },
     "metadata": {
      "needs_background": "light"
     },
     "output_type": "display_data"
    }
   ],
   "source": [
    "plt.rcParams['figure.figsize'] = [10, 4]\n",
    "plt.subplot(1, 2, 1)\n",
    "plt.title('Weekend Alcohol Consumption')\n",
    "plt.hist(df_corr['Walc'], bins=[*range(1, 6)])\n",
    "plt.subplot(1, 2, 2)\n",
    "plt.boxplot(df_corr['Walc'], labels=['Weekend Alcohol Consumption'])\n",
    "plt.show()"
   ]
  },
  {
   "cell_type": "markdown",
   "id": "3fbc8f3b",
   "metadata": {},
   "source": [
    "The distribution of the weekend alcohol consumption attribute appears to be non-Gaussian. Therefore, we will calculate the Spearman correlation between this attribute and final grade."
   ]
  },
  {
   "cell_type": "code",
   "execution_count": 122,
   "id": "393ae77a",
   "metadata": {},
   "outputs": [
    {
     "name": "stdout",
     "output_type": "stream",
     "text": [
      "Correlation between weekend alcohol consumption and final grade:  -0.1493296562947421\n"
     ]
    }
   ],
   "source": [
    "walc_corr = df_corr[['Walc', 'G3']].corr(method='spearman')['G3'].loc['Walc']\n",
    "print('Correlation between weekend alcohol consumption and final grade: ', walc_corr)"
   ]
  },
  {
   "cell_type": "markdown",
   "id": "82d20735",
   "metadata": {},
   "source": [
    "#### Health"
   ]
  },
  {
   "cell_type": "markdown",
   "id": "22d9f82f",
   "metadata": {},
   "source": [
    "from 1 - very bad to 5 - very good"
   ]
  },
  {
   "cell_type": "code",
   "execution_count": 123,
   "id": "95951471",
   "metadata": {
    "scrolled": true
   },
   "outputs": [
    {
     "data": {
      "image/png": "[encoded data removed]",
      "text/plain": [
       "<Figure size 720x288 with 2 Axes>"
      ]
     },
     "metadata": {
      "needs_background": "light"
     },
     "output_type": "display_data"
    }
   ],
   "source": [
    "plt.rcParams['figure.figsize'] = [10, 4]\n",
    "plt.subplot(1, 2, 1)\n",
    "plt.title('Health')\n",
    "plt.hist(df_corr['health'], bins=[*range(1, 6)])\n",
    "plt.subplot(1, 2, 2)\n",
    "plt.boxplot(df_corr['health'], labels=['Health'])\n",
    "plt.show()"
   ]
  },
  {
   "cell_type": "markdown",
   "id": "d7b1c46b",
   "metadata": {},
   "source": [
    "The distribution of the health attribute appears to be non-Gaussian. Therefore, we will calculate the Spearman correlation between this attribute and final grade."
   ]
  },
  {
   "cell_type": "code",
   "execution_count": 124,
   "id": "5e9280c9",
   "metadata": {},
   "outputs": [
    {
     "name": "stdout",
     "output_type": "stream",
     "text": [
      "Correlation between health and final grade:  -0.08078521444471097\n"
     ]
    }
   ],
   "source": [
    "health_corr = df_corr[['health', 'G3']].corr(method='spearman')['G3'].loc['health']\n",
    "print('Correlation between health and final grade: ', health_corr)"
   ]
  },
  {
   "cell_type": "markdown",
   "id": "4cce119c",
   "metadata": {},
   "source": [
    "#### Absences"
   ]
  },
  {
   "cell_type": "markdown",
   "id": "684921b4",
   "metadata": {},
   "source": [
    "from 0 to 93"
   ]
  },
  {
   "cell_type": "code",
   "execution_count": 125,
   "id": "1c73c596",
   "metadata": {
    "scrolled": true
   },
   "outputs": [
    {
     "data": {
      "image/png": "[encoded data removed]",
      "text/plain": [
       "<Figure size 720x288 with 2 Axes>"
      ]
     },
     "metadata": {
      "needs_background": "light"
     },
     "output_type": "display_data"
    }
   ],
   "source": [
    "plt.rcParams['figure.figsize'] = [10, 4]\n",
    "plt.subplot(1, 2, 1)\n",
    "plt.title('Absences')\n",
    "plt.hist(df_corr['absences'])\n",
    "plt.subplot(1, 2, 2)\n",
    "plt.boxplot(df_corr['absences'], labels=['Absences'])\n",
    "plt.show()"
   ]
  },
  {
   "cell_type": "markdown",
   "id": "32836525",
   "metadata": {},
   "source": [
    "The distribution of the absences attribute appears to be non-Gaussian. Therefore, we will calculate the Spearman correlation between this attribute and final grade."
   ]
  },
  {
   "cell_type": "code",
   "execution_count": 126,
   "id": "a0304677",
   "metadata": {},
   "outputs": [
    {
     "name": "stdout",
     "output_type": "stream",
     "text": [
      "Correlation between absences and final grade:  -0.10897236400308521\n"
     ]
    }
   ],
   "source": [
    "absences_corr = df_corr[['absences', 'G3']].corr(method='spearman')['G3'].loc['absences']\n",
    "print('Correlation between absences and final grade: ', absences_corr)"
   ]
  },
  {
   "cell_type": "markdown",
   "id": "76a30468",
   "metadata": {},
   "source": [
    "### Correlation between attributes"
   ]
  },
  {
   "cell_type": "code",
   "execution_count": 174,
   "id": "877e228e",
   "metadata": {},
   "outputs": [
    {
     "data": {
      "text/plain": [
       "famsize       object\n",
       "Pstatus       object\n",
       "Mjob          object\n",
       "Fjob          object\n",
       "reason        object\n",
       "guardian      object\n",
       "schoolsup     object\n",
       "famsup        object\n",
       "paid          object\n",
       "activities    object\n",
       "nursery       object\n",
       "higher        object\n",
       "internet      object\n",
       "romantic      object\n",
       "dtype: object"
      ]
     },
     "execution_count": 174,
     "metadata": {},
     "output_type": "execute_result"
    }
   ],
   "source": [
    "categorical_cols = df_corr.dtypes[df_corr.dtypes == 'object']\n",
    "categorical_cols"
   ]
  },
  {
   "cell_type": "code",
   "execution_count": 175,
   "id": "32e02a3c",
   "metadata": {},
   "outputs": [],
   "source": [
    "for col, dtype in categorical_cols.iteritems():\n",
    "    df_corr[col] = df_corr[col].astype('category').cat.codes"
   ]
  },
  {
   "cell_type": "code",
   "execution_count": 176,
   "id": "869a558b",
   "metadata": {},
   "outputs": [
    {
     "data": {
      "image/png": "[encoded data removed]",
      "text/plain": [
       "<Figure size 1440x1080 with 2 Axes>"
      ]
     },
     "metadata": {
      "needs_background": "light"
     },
     "output_type": "display_data"
    }
   ],
   "source": [
    "corr = df_corr.corr()\n",
    "plt.rcParams['figure.figsize'] = [20, 15]\n",
    "sns.heatmap(corr, \n",
    "        xticklabels=corr.columns,\n",
    "        yticklabels=corr.columns)\n",
    "plt.show()"
   ]
  },
  {
   "cell_type": "markdown",
   "id": "6186f954",
   "metadata": {},
   "source": [
    "From these correlation heatmaps, we can make several observations:\n",
    "- There is a negative correlation between number of past failed classes and the desire to participate in higher education.\n",
    "- There is a strong positive correlation between family educational support and whether or not the student participated in extra paid classes for that particular subject.\n",
    "- There is a negative correlation between parent education and past failed classes.\n",
    "- There is a negative correlation between both workday and weekend alcohol consumption and studytime.\n",
    "- There is a strong positive correlation between workday and weekend alcohol consumption. This may be an indicator of multicollinearity. We plan on removing one of these attributes (most likely weekend alcohol consumption because there was a smaller correlation with final grades).\n",
    "- There is a strong positive correlation (~0.7) between mother education and father education. There is a slightly weaker correlation (~0.4-0.5) correlation with the parent job types attribute as well. This may be another indicator of multicollinearity and as a result, we are planning on removing one or more of these attributes.\n",
    "- There is a positive correlation between free time and going out with friends."
   ]
  },
  {
   "cell_type": "code",
   "execution_count": null,
   "id": "a8f82f5b",
   "metadata": {},
   "outputs": [],
   "source": []
  }
 ],
 "metadata": {
  "kernelspec": {
   "display_name": "conda_python3",
   "language": "python",
   "name": "conda_python3"
  },
  "language_info": {
   "codemirror_mode": {
    "name": "ipython",
    "version": 3
   },
   "file_extension": ".py",
   "mimetype": "text/x-python",
   "name": "python",
   "nbconvert_exporter": "python",
   "pygments_lexer": "ipython3",
   "version": "3.6.13"
  }
 },
 "nbformat": 4,
 "nbformat_minor": 5
}
