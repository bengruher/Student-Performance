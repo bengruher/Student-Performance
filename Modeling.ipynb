{
 "cells": [
  {
   "cell_type": "markdown",
   "id": "cd5da02a",
   "metadata": {},
   "source": [
    "# Student Performance Modeling"
   ]
  },
  {
   "cell_type": "markdown",
   "id": "65334f58",
   "metadata": {},
   "source": [
    "Approach:\n",
    "1. Use train/test split data to try a number of different algorithms/techniques.\n",
    "2. Choose the most promising algorithms and optimize hyperparameters.\n",
    "3. Validate results using cross-validation on the entire dataset.\n",
    "\n",
    "Algorithms to try:\n",
    "- Linear regression\n",
    "- K-Nearest Neighbors (KNN)\n",
    "- Decision tree\n",
    "- Support Vector Machine (SVM)\n",
    "- Ensemble - RandomForest, XGBoost, stacking, etc\n",
    "- Multi-layer perceptron (MLP)\n",
    "\n",
    "Success criteria: \n",
    "\n",
    "Without knowledge of the first two term grades, the best model in the original paper had an root mean-squared error (RMSE) of 2.67 on the Portuguese dataset and 3.90 on the mathematics dataset. Since we are combining the two datasets, it may be difficult to compare our results with the results of the original paper. However, we are hoping to create a model that can produce results with a **RMSE of <2**. These results would demonstrate that the model has significant skill and is able to produce reasonably accurate predictions for a student's year-long grades. "
   ]
  },
  {
   "cell_type": "markdown",
   "id": "137fef25",
   "metadata": {},
   "source": [
    "### Install and import libraries"
   ]
  },
  {
   "cell_type": "code",
   "execution_count": 17,
   "id": "dd57d862",
   "metadata": {},
   "outputs": [
    {
     "name": "stdout",
     "output_type": "stream",
     "text": [
      "\u001b[33mWARNING: You are using pip version 21.2.4; however, version 21.3.1 is available.\r\n",
      "You should consider upgrading via the '/home/ec2-user/anaconda3/envs/python3/bin/python -m pip install --upgrade pip' command.\u001b[0m\r\n"
     ]
    }
   ],
   "source": [
    "!pip3 install --quiet mlflow"
   ]
  },
  {
   "cell_type": "code",
   "execution_count": 38,
   "id": "f32daae8",
   "metadata": {},
   "outputs": [
    {
     "name": "stdout",
     "output_type": "stream",
     "text": [
      "\u001b[33mWARNING: You are using pip version 21.2.4; however, version 21.3.1 is available.\r\n",
      "You should consider upgrading via the '/home/ec2-user/anaconda3/envs/python3/bin/python -m pip install --upgrade pip' command.\u001b[0m\r\n"
     ]
    }
   ],
   "source": [
    "!pip3 install --quiet xgboost"
   ]
  },
  {
   "cell_type": "code",
   "execution_count": 50,
   "id": "10ba7375",
   "metadata": {},
   "outputs": [],
   "source": [
    "import pandas as pd\n",
    "import numpy as np\n",
    "from sklearn.metrics import mean_squared_error, r2_score\n",
    "from sklearn.linear_model import LinearRegression\n",
    "from sklearn.neighbors import KNeighborsRegressor\n",
    "from sklearn.tree import DecisionTreeRegressor\n",
    "from sklearn.ensemble import RandomForestRegressor\n",
    "from sklearn.svm import SVR\n",
    "import xgboost as xgb\n",
    "import mlflow\n",
    "import mlflow.sklearn\n",
    "import mlflow.xgboost\n",
    "import pickle"
   ]
  },
  {
   "cell_type": "markdown",
   "id": "d394d424",
   "metadata": {},
   "source": [
    "### Creating directory for model artifacts"
   ]
  },
  {
   "cell_type": "code",
   "execution_count": 19,
   "id": "ec9e93ca",
   "metadata": {},
   "outputs": [],
   "source": [
    "artifact_prefix = 'artifacts/'"
   ]
  },
  {
   "cell_type": "code",
   "execution_count": 20,
   "id": "37c14439",
   "metadata": {},
   "outputs": [],
   "source": [
    "!mkdir -p $artifact_prefix"
   ]
  },
  {
   "cell_type": "markdown",
   "id": "4abb422e",
   "metadata": {},
   "source": [
    "### Define contants"
   ]
  },
  {
   "cell_type": "code",
   "execution_count": 21,
   "id": "7ac3a2bc",
   "metadata": {},
   "outputs": [],
   "source": [
    "RAND_STATE = 12\n",
    "TRAIN_FILE = 'data/processed/train.csv'\n",
    "TEST_FILE = 'data/processed/test.csv'"
   ]
  },
  {
   "cell_type": "markdown",
   "id": "81036e3c",
   "metadata": {},
   "source": [
    "### Load data into memory"
   ]
  },
  {
   "cell_type": "code",
   "execution_count": 22,
   "id": "ebff392e",
   "metadata": {},
   "outputs": [],
   "source": [
    "train_df = pd.read_csv(TRAIN_FILE, header=0)\n",
    "test_df = pd.read_csv(TEST_FILE, header=0)"
   ]
  },
  {
   "cell_type": "markdown",
   "id": "002ecbc6",
   "metadata": {},
   "source": [
    "Seperate attributes and target variable:"
   ]
  },
  {
   "cell_type": "code",
   "execution_count": 23,
   "id": "82bf7399",
   "metadata": {},
   "outputs": [],
   "source": [
    "X_train = train_df.loc[:, train_df.columns != 'G3']\n",
    "y_train = train_df['G3']\n",
    "X_test = test_df.loc[:, test_df.columns != 'G3']\n",
    "y_test = test_df['G3']"
   ]
  },
  {
   "cell_type": "markdown",
   "id": "2816d244",
   "metadata": {},
   "source": [
    "### Define model evaluation"
   ]
  },
  {
   "cell_type": "code",
   "execution_count": 24,
   "id": "330dac2c",
   "metadata": {},
   "outputs": [],
   "source": [
    "# returns the root mean squared error (RMSE) and R-squared value given a set of predicted and actual values\n",
    "def evaluate(actual, predictions):\n",
    "    return mean_squared_error(y_true = actual, y_pred = predictions, squared = False), r2_score(actual, predictions)"
   ]
  },
  {
   "cell_type": "markdown",
   "id": "cf4e9b21",
   "metadata": {},
   "source": [
    "### Create baseline naive model"
   ]
  },
  {
   "cell_type": "markdown",
   "id": "05af4ebc",
   "metadata": {},
   "source": [
    "We first want to create a baseline model to compare resuls as we test new algorithms. For our baseline regressor, we will be creating a naive model that always returns the average grade for students in the training set."
   ]
  },
  {
   "cell_type": "code",
   "execution_count": 25,
   "id": "e12a947f",
   "metadata": {},
   "outputs": [],
   "source": [
    "class NaiveRegressor(mlflow.pyfunc.PythonModel):\n",
    "    def __init__(self):\n",
    "        return\n",
    "    def fit(self, X_train, y_train):\n",
    "        # calculate average grade in training set\n",
    "        self.value = np.average(y_train)\n",
    "        return\n",
    "    def predict(self, values):\n",
    "        predictions = list()\n",
    "        for row in np.array(values):\n",
    "            predictions.append(self.value)\n",
    "        return predictions"
   ]
  },
  {
   "cell_type": "markdown",
   "id": "af076088",
   "metadata": {},
   "source": [
    "Now we want to evaluate our baseline model against the test dataset."
   ]
  },
  {
   "cell_type": "code",
   "execution_count": 26,
   "id": "c20ec711",
   "metadata": {},
   "outputs": [],
   "source": [
    "# create and train baseline model\n",
    "baseline = NaiveRegressor()\n",
    "baseline.fit(X_train, y_train)"
   ]
  },
  {
   "cell_type": "code",
   "execution_count": 27,
   "id": "5c6ac5e8",
   "metadata": {},
   "outputs": [],
   "source": [
    "# generate predictions\n",
    "baseline_predictions = baseline.predict(X_test)"
   ]
  },
  {
   "cell_type": "code",
   "execution_count": 28,
   "id": "c540d9ef",
   "metadata": {},
   "outputs": [
    {
     "name": "stdout",
     "output_type": "stream",
     "text": [
      "Baseline RMSE:  3.7025421957351212\n",
      "Baseline R2:  -0.01542370731080589\n"
     ]
    }
   ],
   "source": [
    "# evaluate predictions\n",
    "baseline_score = evaluate(y_test, baseline_predictions)\n",
    "print('Baseline RMSE: ', baseline_score[0])\n",
    "print('Baseline R2: ', baseline_score[1])"
   ]
  },
  {
   "cell_type": "markdown",
   "id": "bb5bf6a4",
   "metadata": {},
   "source": [
    "This baseline RMSE score is roughly consistent with the results found in the original paper. Although the original study separated math and Portuguese classes, the RMSE's of their Naive regression model were 4.6 and 3.2 respectively. We will log this model using MLFlow."
   ]
  },
  {
   "cell_type": "code",
   "execution_count": 29,
   "id": "89ef4690",
   "metadata": {},
   "outputs": [],
   "source": [
    "baseline_prefix = 'baseline/'\n",
    "!mkdir -p {artifact_prefix + baseline_prefix}\n",
    "baseline_model_path = artifact_prefix + baseline_prefix + 'model.pkl'\n",
    "baseline_artifacts = {\"baseline_model_path\": baseline_model_path}\n",
    "with open(baseline_model_path, 'wb') as f:\n",
    "    pickle.dump(baseline, f)"
   ]
  },
  {
   "cell_type": "code",
   "execution_count": 30,
   "id": "f6f0719a",
   "metadata": {},
   "outputs": [],
   "source": [
    "with mlflow.start_run() as run:\n",
    "#     mlflow.log_param(\"alpha\", alpha)\n",
    "#     mlflow.log_param(\"l1_ratio\", l1_ratio)\n",
    "    mlflow.log_metric(\"rmse\", baseline_score[0])\n",
    "    mlflow.log_metric(\"r2\", baseline_score[1])\n",
    "\n",
    "#     mlflow.log_artifact(\"encoder.pickle\")\n",
    "    \n",
    "    mlflow.pyfunc.log_model(\n",
    "        artifact_path='baseline',\n",
    "        python_model=NaiveRegressor(),\n",
    "#         code_path=[\"./artifacts\"],\n",
    "        artifacts=baseline_artifacts,\n",
    "    )"
   ]
  },
  {
   "cell_type": "markdown",
   "id": "91b5c6a8",
   "metadata": {},
   "source": [
    "### Linear Regression"
   ]
  },
  {
   "cell_type": "code",
   "execution_count": 31,
   "id": "7764e8ed",
   "metadata": {},
   "outputs": [
    {
     "name": "stdout",
     "output_type": "stream",
     "text": [
      "Linear Regression model\n",
      "  RMSE: 3.3953687970141377\n",
      "  R2: 0.14607216161348102\n"
     ]
    }
   ],
   "source": [
    "with mlflow.start_run():\n",
    "    lr = LinearRegression()\n",
    "    lr.fit(X_train, y_train)\n",
    "\n",
    "    # Evaluate Metrics\n",
    "    predictions = lr.predict(X_test)\n",
    "    rmse, r2 = evaluate(y_test, predictions)\n",
    "\n",
    "    # Print out metrics\n",
    "    print(\"Linear Regression model\")\n",
    "    print(\"  RMSE: %s\" % rmse)\n",
    "    print(\"  R2: %s\" % r2)\n",
    "\n",
    "    # Log metrics and model to MLflow\n",
    "    mlflow.log_metric(\"rmse\", rmse)\n",
    "    mlflow.log_metric(\"r2\", r2)\n",
    "\n",
    "    mlflow.sklearn.log_model(lr, \"LinRegModel\")"
   ]
  },
  {
   "cell_type": "markdown",
   "id": "315a5edf",
   "metadata": {},
   "source": [
    "The scikit-learn Linear Regression model with default hyperparameters did improve over the baseline model. The RMSE improved to ~3.4 from 3.7 and the R-squared score improved from ~0 to 0.14. While the improvement in R-squared score is encouraging, it's possible that the relationship between the features and the target variable is not linear. We will explore some non-linear options next. "
   ]
  },
  {
   "cell_type": "markdown",
   "id": "56801f5e",
   "metadata": {},
   "source": [
    "### KNN"
   ]
  },
  {
   "cell_type": "code",
   "execution_count": 32,
   "id": "50aea436",
   "metadata": {},
   "outputs": [
    {
     "name": "stdout",
     "output_type": "stream",
     "text": [
      "KNN model\n",
      "  RMSE: 3.9511300372714353\n",
      "  R2: -0.1563516164574994\n"
     ]
    }
   ],
   "source": [
    "with mlflow.start_run():\n",
    "    knn = KNeighborsRegressor()\n",
    "    knn.fit(X_train, y_train)\n",
    "\n",
    "    # Evaluate Metrics\n",
    "    predictions = knn.predict(X_test)\n",
    "    rmse, r2 = evaluate(y_test, predictions)\n",
    "\n",
    "    # Print out metrics\n",
    "    print(\"KNN model\")\n",
    "    print(\"  RMSE: %s\" % rmse)\n",
    "    print(\"  R2: %s\" % r2)\n",
    "\n",
    "    # Log metrics, and model to MLflow\n",
    "    mlflow.log_metric(\"rmse\", rmse)\n",
    "    mlflow.log_metric(\"r2\", r2)\n",
    "\n",
    "    mlflow.sklearn.log_model(knn, \"KNNModel\")"
   ]
  },
  {
   "cell_type": "markdown",
   "id": "6ccc532f",
   "metadata": {},
   "source": [
    "Surprisingly, the KNN scikit-learn with default hyperparameters did worse than our baseline model. Both the RMSE and the R-squared score were worse than that of the baseline. We previously thought that students who were close together in the feature space would be similar in many ways, including school performance. However, this is clearly not the case for this set of students."
   ]
  },
  {
   "cell_type": "markdown",
   "id": "0735caf0",
   "metadata": {},
   "source": [
    "### Decision Tree"
   ]
  },
  {
   "cell_type": "code",
   "execution_count": 33,
   "id": "5d590e83",
   "metadata": {},
   "outputs": [
    {
     "name": "stdout",
     "output_type": "stream",
     "text": [
      "Decision Tree model\n",
      "  RMSE: 4.796824346327871\n",
      "  R2: -0.7043347397275002\n"
     ]
    }
   ],
   "source": [
    "with mlflow.start_run():\n",
    "    dt = DecisionTreeRegressor()\n",
    "    dt.fit(X_train, y_train)\n",
    "\n",
    "    # Evaluate Metrics\n",
    "    predictions = dt.predict(X_test)\n",
    "    rmse, r2 = evaluate(y_test, predictions)\n",
    "\n",
    "    # Print out metrics\n",
    "    print(\"Decision Tree model\")\n",
    "    print(\"  RMSE: %s\" % rmse)\n",
    "    print(\"  R2: %s\" % r2)\n",
    "\n",
    "    # Log metrics, and model to MLflow\n",
    "    mlflow.log_metric(\"rmse\", rmse)\n",
    "    mlflow.log_metric(\"r2\", r2)\n",
    "\n",
    "    mlflow.sklearn.log_model(dt, \"DecisionTreeModel\")"
   ]
  },
  {
   "cell_type": "markdown",
   "id": "16c442e8",
   "metadata": {},
   "source": [
    "The scikit-learn Decision Tree regression algorithm with default hyperparameters is much worse than our baseline algorithm. We may try to tune some of the hyperparameters to see if it will do any better but for now, we will move on to other algorithm types."
   ]
  },
  {
   "cell_type": "markdown",
   "id": "e3bf9720",
   "metadata": {},
   "source": [
    "### SVM"
   ]
  },
  {
   "cell_type": "code",
   "execution_count": 34,
   "id": "5a535d23",
   "metadata": {},
   "outputs": [
    {
     "name": "stdout",
     "output_type": "stream",
     "text": [
      "SVM model\n",
      "  RMSE: 3.739125728684253\n",
      "  R2: -0.03558893804497831\n"
     ]
    }
   ],
   "source": [
    "with mlflow.start_run():\n",
    "    svm = SVR()\n",
    "    svm.fit(X_train, y_train)\n",
    "\n",
    "    # Evaluate Metrics\n",
    "    predictions = svm.predict(X_test)\n",
    "    rmse, r2 = evaluate(y_test, predictions)\n",
    "\n",
    "    # Print out metrics\n",
    "    print(\"SVM model\")\n",
    "    print(\"  RMSE: %s\" % rmse)\n",
    "    print(\"  R2: %s\" % r2)\n",
    "\n",
    "    # Log metrics, and model to MLflow\n",
    "    mlflow.log_metric(\"rmse\", rmse)\n",
    "    mlflow.log_metric(\"r2\", r2)\n",
    "\n",
    "    mlflow.sklearn.log_model(svm, \"SVMModel\")"
   ]
  },
  {
   "cell_type": "markdown",
   "id": "4814fb77",
   "metadata": {},
   "source": [
    "The SVM algorithm from scikit-learn with default hyperparameters performed about as well as the naive baseline model. It is most likely not a viable algorithm for this problem given these poor initial results."
   ]
  },
  {
   "cell_type": "markdown",
   "id": "abe6b7a2",
   "metadata": {},
   "source": [
    "### Random Forest"
   ]
  },
  {
   "cell_type": "code",
   "execution_count": 37,
   "id": "c2e3091a",
   "metadata": {},
   "outputs": [
    {
     "name": "stdout",
     "output_type": "stream",
     "text": [
      "Random Forest Model\n",
      "  RMSE: 3.4052293119064196\n",
      "  R2: 0.14110516379565163\n"
     ]
    }
   ],
   "source": [
    "with mlflow.start_run():\n",
    "    rf = RandomForestRegressor()\n",
    "    rf.fit(X_train, y_train)\n",
    "    \n",
    "    # Evaluate metrics\n",
    "    predictions = rf.predict(X_test)\n",
    "    rmse, r2 = evaluate(y_test, predictions)\n",
    "    \n",
    "    # Print out metrics\n",
    "    print(\"Random Forest Model\")\n",
    "    print(\"  RMSE: %s\" % rmse)\n",
    "    print(\"  R2: %s\" % r2)\n",
    "    \n",
    "    # Log metrics and model to MLFlow\n",
    "    mlflow.log_metric(\"rmse\", rmse)\n",
    "    mlflow.log_metric(\"r2\", r2)\n",
    "    \n",
    "    mlflow.sklearn.log_model(rf, \"RFModel\")"
   ]
  },
  {
   "cell_type": "markdown",
   "id": "4e07bd3f",
   "metadata": {},
   "source": [
    "The Random Forest algorithm from scikit-learn with default hyperparameters produced very similar results to our Linear Regression algorithm, which is our best performing model so far. We will circle back to the two or three best performing algorithms for hyperparameter tuning. "
   ]
  },
  {
   "cell_type": "markdown",
   "id": "6d162f49",
   "metadata": {},
   "source": [
    "### XGBoost"
   ]
  },
  {
   "cell_type": "markdown",
   "id": "36dc94eb",
   "metadata": {},
   "source": [
    "For this algorithm, we will create a simple test harness that takes a dictionary of hyperparameters. The function will train an XGBoost model on the training data and print out the RMSE and R2 on the test data."
   ]
  },
  {
   "cell_type": "code",
   "execution_count": 51,
   "id": "840b8b06",
   "metadata": {},
   "outputs": [],
   "source": [
    "def xgboost_test_harness(params):\n",
    "    with mlflow.start_run():\n",
    "        dtrain = xgb.DMatrix(X_train, label=y_train)\n",
    "        xgb_model = xgb.train(params, dtrain)\n",
    "        \n",
    "        dtest = xgb.DMatrix(X_test)\n",
    "        predictions = xgb_model.predict(dtest)\n",
    "        rmse, r2 = evaluate(y_test, predictions)\n",
    "\n",
    "        # Print out metrics\n",
    "        print(\"XGBoost Model\")\n",
    "        print(\"  RMSE: %s\" % rmse)\n",
    "        print(\"  R2: %s\" % r2)\n",
    "        \n",
    "        # Log parameters, metrics, and model to MLFlow\n",
    "        for key, value in params.items():\n",
    "            mlflow.log_param(key, value)\n",
    "        \n",
    "        mlflow.log_metric(\"rmse\", rmse)\n",
    "        mlflow.log_metric(\"r2\", r2)\n",
    "\n",
    "        mlflow.xgboost.log_model(xgb_model, \"XGBModel\")"
   ]
  },
  {
   "cell_type": "code",
   "execution_count": 52,
   "id": "bdb21ca8",
   "metadata": {},
   "outputs": [
    {
     "name": "stdout",
     "output_type": "stream",
     "text": [
      "XGBoost Model\n",
      "  RMSE: 3.2829399891681286\n",
      "  R2: 0.20168708801440738\n"
     ]
    }
   ],
   "source": [
    "params = {}\n",
    "xgboost_test_harness(params)"
   ]
  },
  {
   "cell_type": "markdown",
   "id": "2de7636a",
   "metadata": {},
   "source": [
    "Despite the Decision Tree algorithm performing exceptionally poorly on this dataset, the XGBoost algorithm produced the best results so far. We have a significant improvement over the baseline in terms of both RMSE (3.28 compared to 3.70) and R2 (0.20 compared to -0.01). Later, we will see how much we can improve on these metrics by tuning the model's hyperparameters."
   ]
  },
  {
   "cell_type": "markdown",
   "id": "2a7e06de",
   "metadata": {},
   "source": [
    "## Multi-Layer Perceptron"
   ]
  },
  {
   "cell_type": "code",
   "execution_count": null,
   "id": "3a353a46",
   "metadata": {},
   "outputs": [],
   "source": []
  }
 ],
 "metadata": {
  "kernelspec": {
   "display_name": "conda_python3",
   "language": "python",
   "name": "conda_python3"
  },
  "language_info": {
   "codemirror_mode": {
    "name": "ipython",
    "version": 3
   },
   "file_extension": ".py",
   "mimetype": "text/x-python",
   "name": "python",
   "nbconvert_exporter": "python",
   "pygments_lexer": "ipython3",
   "version": "3.6.13"
  }
 },
 "nbformat": 4,
 "nbformat_minor": 5
}
